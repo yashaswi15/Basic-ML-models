{
  "nbformat": 4,
  "nbformat_minor": 0,
  "metadata": {
    "colab": {
      "provenance": [],
      "gpuType": "T4"
    },
    "kernelspec": {
      "name": "python3",
      "display_name": "Python 3"
    },
    "language_info": {
      "name": "python"
    },
    "accelerator": "GPU"
  },
  "cells": [
    {
      "cell_type": "code",
      "execution_count": 1,
      "metadata": {
        "colab": {
          "base_uri": "https://localhost:8080/"
        },
        "id": "z38VXGMRAw9k",
        "outputId": "9a7f3713-01e5-46e6-fb43-ce441b1f7ead",
        "collapsed": true
      },
      "outputs": [
        {
          "output_type": "stream",
          "name": "stderr",
          "text": [
            "[nltk_data] Downloading package punkt to /root/nltk_data...\n",
            "[nltk_data]   Unzipping tokenizers/punkt.zip.\n",
            "[nltk_data] Downloading package stopwords to /root/nltk_data...\n",
            "[nltk_data]   Unzipping corpora/stopwords.zip.\n",
            "[nltk_data] Downloading collection 'popular'\n",
            "[nltk_data]    | \n",
            "[nltk_data]    | Downloading package cmudict to /root/nltk_data...\n",
            "[nltk_data]    |   Unzipping corpora/cmudict.zip.\n",
            "[nltk_data]    | Downloading package gazetteers to /root/nltk_data...\n",
            "[nltk_data]    |   Unzipping corpora/gazetteers.zip.\n",
            "[nltk_data]    | Downloading package genesis to /root/nltk_data...\n",
            "[nltk_data]    |   Unzipping corpora/genesis.zip.\n",
            "[nltk_data]    | Downloading package gutenberg to /root/nltk_data...\n",
            "[nltk_data]    |   Unzipping corpora/gutenberg.zip.\n",
            "[nltk_data]    | Downloading package inaugural to /root/nltk_data...\n",
            "[nltk_data]    |   Unzipping corpora/inaugural.zip.\n",
            "[nltk_data]    | Downloading package movie_reviews to\n",
            "[nltk_data]    |     /root/nltk_data...\n",
            "[nltk_data]    |   Unzipping corpora/movie_reviews.zip.\n",
            "[nltk_data]    | Downloading package names to /root/nltk_data...\n",
            "[nltk_data]    |   Unzipping corpora/names.zip.\n",
            "[nltk_data]    | Downloading package shakespeare to /root/nltk_data...\n",
            "[nltk_data]    |   Unzipping corpora/shakespeare.zip.\n",
            "[nltk_data]    | Downloading package stopwords to /root/nltk_data...\n",
            "[nltk_data]    |   Package stopwords is already up-to-date!\n",
            "[nltk_data]    | Downloading package treebank to /root/nltk_data...\n",
            "[nltk_data]    |   Unzipping corpora/treebank.zip.\n",
            "[nltk_data]    | Downloading package twitter_samples to\n",
            "[nltk_data]    |     /root/nltk_data...\n",
            "[nltk_data]    |   Unzipping corpora/twitter_samples.zip.\n",
            "[nltk_data]    | Downloading package omw to /root/nltk_data...\n",
            "[nltk_data]    | Downloading package omw-1.4 to /root/nltk_data...\n",
            "[nltk_data]    | Downloading package wordnet to /root/nltk_data...\n",
            "[nltk_data]    | Downloading package wordnet2021 to /root/nltk_data...\n",
            "[nltk_data]    | Downloading package wordnet31 to /root/nltk_data...\n",
            "[nltk_data]    | Downloading package wordnet_ic to /root/nltk_data...\n",
            "[nltk_data]    |   Unzipping corpora/wordnet_ic.zip.\n",
            "[nltk_data]    | Downloading package words to /root/nltk_data...\n",
            "[nltk_data]    |   Unzipping corpora/words.zip.\n",
            "[nltk_data]    | Downloading package maxent_ne_chunker to\n",
            "[nltk_data]    |     /root/nltk_data...\n",
            "[nltk_data]    |   Unzipping chunkers/maxent_ne_chunker.zip.\n",
            "[nltk_data]    | Downloading package punkt to /root/nltk_data...\n",
            "[nltk_data]    |   Package punkt is already up-to-date!\n",
            "[nltk_data]    | Downloading package snowball_data to\n",
            "[nltk_data]    |     /root/nltk_data...\n",
            "[nltk_data]    | Downloading package averaged_perceptron_tagger to\n",
            "[nltk_data]    |     /root/nltk_data...\n",
            "[nltk_data]    |   Unzipping taggers/averaged_perceptron_tagger.zip.\n",
            "[nltk_data]    | \n",
            "[nltk_data]  Done downloading collection popular\n"
          ]
        }
      ],
      "source": [
        "import numpy as np\n",
        "import pandas as pd\n",
        "import re #library for working with regular expressions\n",
        "import nltk #a cornerstone for NLP tasks in Python. It offers tools for tokenization, stemming, stop word removal, and much more.\n",
        "nltk.download('punkt') # Download necessary data for punkt tokenizer if you haven't already\n",
        "nltk.download('stopwords') #Downloads a list of common words (like \"the,\" \"a,\" \"is\") called stop word\n",
        "from nltk.corpus import stopwords #Imports the stopwords module to access and utilize the downloaded list of stop words.\n",
        "nltk.download('popular') # Download popular package which includes the Porter Stemmer\n",
        "\n",
        "# Instead of importing directly from 'nltk.stem.porter', import from 'nltk.stem'\n",
        "from nltk.stem import PorterStemmer # Changed to PorterStemmer\n",
        "from sklearn.feature_extraction.text import TfidfVectorizer #sed to convert text into numerical representations\n",
        "from sklearn.model_selection import train_test_split\n",
        "from sklearn.linear_model import LogisticRegression\n",
        "from sklearn.ensemble import RandomForestRegressor\n",
        "from sklearn.tree import DecisionTreeRegressor\n",
        "from sklearn.svm import SVC\n",
        "from sklearn.metrics import accuracy_score, classification_report, confusion_matrix"
      ]
    },
    {
      "cell_type": "code",
      "source": [
        "print(stopwords.words('english')) #Remove all these words during stemming process"
      ],
      "metadata": {
        "colab": {
          "base_uri": "https://localhost:8080/"
        },
        "id": "fkNoL_JOAx3-",
        "outputId": "71eccf0d-7b60-4414-8a01-0c2ce7c3ed96"
      },
      "execution_count": 2,
      "outputs": [
        {
          "output_type": "stream",
          "name": "stdout",
          "text": [
            "['a', 'about', 'above', 'after', 'again', 'against', 'ain', 'all', 'am', 'an', 'and', 'any', 'are', 'aren', \"aren't\", 'as', 'at', 'be', 'because', 'been', 'before', 'being', 'below', 'between', 'both', 'but', 'by', 'can', 'couldn', \"couldn't\", 'd', 'did', 'didn', \"didn't\", 'do', 'does', 'doesn', \"doesn't\", 'doing', 'don', \"don't\", 'down', 'during', 'each', 'few', 'for', 'from', 'further', 'had', 'hadn', \"hadn't\", 'has', 'hasn', \"hasn't\", 'have', 'haven', \"haven't\", 'having', 'he', \"he'd\", \"he'll\", 'her', 'here', 'hers', 'herself', \"he's\", 'him', 'himself', 'his', 'how', 'i', \"i'd\", 'if', \"i'll\", \"i'm\", 'in', 'into', 'is', 'isn', \"isn't\", 'it', \"it'd\", \"it'll\", \"it's\", 'its', 'itself', \"i've\", 'just', 'll', 'm', 'ma', 'me', 'mightn', \"mightn't\", 'more', 'most', 'mustn', \"mustn't\", 'my', 'myself', 'needn', \"needn't\", 'no', 'nor', 'not', 'now', 'o', 'of', 'off', 'on', 'once', 'only', 'or', 'other', 'our', 'ours', 'ourselves', 'out', 'over', 'own', 're', 's', 'same', 'shan', \"shan't\", 'she', \"she'd\", \"she'll\", \"she's\", 'should', 'shouldn', \"shouldn't\", \"should've\", 'so', 'some', 'such', 't', 'than', 'that', \"that'll\", 'the', 'their', 'theirs', 'them', 'themselves', 'then', 'there', 'these', 'they', \"they'd\", \"they'll\", \"they're\", \"they've\", 'this', 'those', 'through', 'to', 'too', 'under', 'until', 'up', 've', 'very', 'was', 'wasn', \"wasn't\", 'we', \"we'd\", \"we'll\", \"we're\", 'were', 'weren', \"weren't\", \"we've\", 'what', 'when', 'where', 'which', 'while', 'who', 'whom', 'why', 'will', 'with', 'won', \"won't\", 'wouldn', \"wouldn't\", 'y', 'you', \"you'd\", \"you'll\", 'your', \"you're\", 'yours', 'yourself', 'yourselves', \"you've\"]\n"
          ]
        }
      ]
    },
    {
      "cell_type": "markdown",
      "source": [
        "Data - Preprocessing"
      ],
      "metadata": {
        "id": "qZ6rznGxMJyG"
      }
    },
    {
      "cell_type": "code",
      "source": [
        "#load dataset in pandas data frame\n",
        "news_dataset = pd.read_csv('WELFake_Dataset.csv')"
      ],
      "metadata": {
        "id": "WPEArBNNL3Z6"
      },
      "execution_count": 3,
      "outputs": []
    },
    {
      "cell_type": "code",
      "source": [
        "news_dataset = news_dataset.head(10000)\n"
      ],
      "metadata": {
        "id": "QLJmjLVDSE-t"
      },
      "execution_count": 4,
      "outputs": []
    },
    {
      "cell_type": "code",
      "source": [
        "news_dataset.shape"
      ],
      "metadata": {
        "colab": {
          "base_uri": "https://localhost:8080/"
        },
        "id": "XC70Aix5U8Aa",
        "outputId": "75ea6bea-0440-4516-ee7f-78e8f41fb451"
      },
      "execution_count": 5,
      "outputs": [
        {
          "output_type": "execute_result",
          "data": {
            "text/plain": [
              "(10000, 4)"
            ]
          },
          "metadata": {},
          "execution_count": 5
        }
      ]
    },
    {
      "cell_type": "code",
      "source": [
        "news_dataset = news_dataset.rename(columns={'Unnamed: 0': 'id'})"
      ],
      "metadata": {
        "id": "1I7AVHg0brSX"
      },
      "execution_count": 6,
      "outputs": []
    },
    {
      "cell_type": "code",
      "source": [
        "news_dataset.head()"
      ],
      "metadata": {
        "colab": {
          "base_uri": "https://localhost:8080/",
          "height": 206
        },
        "id": "hEybuWYsbaw0",
        "outputId": "2a2ee0ea-9ab6-49d7-8edb-e05bf5705438"
      },
      "execution_count": 7,
      "outputs": [
        {
          "output_type": "execute_result",
          "data": {
            "text/plain": [
              "   id                                              title  \\\n",
              "0   0  LAW ENFORCEMENT ON HIGH ALERT Following Threat...   \n",
              "1   1                                                NaN   \n",
              "2   2  UNBELIEVABLE! OBAMA’S ATTORNEY GENERAL SAYS MO...   \n",
              "3   3  Bobby Jindal, raised Hindu, uses story of Chri...   \n",
              "4   4  SATAN 2: Russia unvelis an image of its terrif...   \n",
              "\n",
              "                                                text  label  \n",
              "0  No comment is expected from Barack Obama Membe...      1  \n",
              "1     Did they post their votes for Hillary already?      1  \n",
              "2   Now, most of the demonstrators gathered last ...      1  \n",
              "3  A dozen politically active pastors came here f...      0  \n",
              "4  The RS-28 Sarmat missile, dubbed Satan 2, will...      1  "
            ],
            "text/html": [
              "\n",
              "  <div id=\"df-807b1faf-46fd-4d8b-9002-4af3bade1df7\" class=\"colab-df-container\">\n",
              "    <div>\n",
              "<style scoped>\n",
              "    .dataframe tbody tr th:only-of-type {\n",
              "        vertical-align: middle;\n",
              "    }\n",
              "\n",
              "    .dataframe tbody tr th {\n",
              "        vertical-align: top;\n",
              "    }\n",
              "\n",
              "    .dataframe thead th {\n",
              "        text-align: right;\n",
              "    }\n",
              "</style>\n",
              "<table border=\"1\" class=\"dataframe\">\n",
              "  <thead>\n",
              "    <tr style=\"text-align: right;\">\n",
              "      <th></th>\n",
              "      <th>id</th>\n",
              "      <th>title</th>\n",
              "      <th>text</th>\n",
              "      <th>label</th>\n",
              "    </tr>\n",
              "  </thead>\n",
              "  <tbody>\n",
              "    <tr>\n",
              "      <th>0</th>\n",
              "      <td>0</td>\n",
              "      <td>LAW ENFORCEMENT ON HIGH ALERT Following Threat...</td>\n",
              "      <td>No comment is expected from Barack Obama Membe...</td>\n",
              "      <td>1</td>\n",
              "    </tr>\n",
              "    <tr>\n",
              "      <th>1</th>\n",
              "      <td>1</td>\n",
              "      <td>NaN</td>\n",
              "      <td>Did they post their votes for Hillary already?</td>\n",
              "      <td>1</td>\n",
              "    </tr>\n",
              "    <tr>\n",
              "      <th>2</th>\n",
              "      <td>2</td>\n",
              "      <td>UNBELIEVABLE! OBAMA’S ATTORNEY GENERAL SAYS MO...</td>\n",
              "      <td>Now, most of the demonstrators gathered last ...</td>\n",
              "      <td>1</td>\n",
              "    </tr>\n",
              "    <tr>\n",
              "      <th>3</th>\n",
              "      <td>3</td>\n",
              "      <td>Bobby Jindal, raised Hindu, uses story of Chri...</td>\n",
              "      <td>A dozen politically active pastors came here f...</td>\n",
              "      <td>0</td>\n",
              "    </tr>\n",
              "    <tr>\n",
              "      <th>4</th>\n",
              "      <td>4</td>\n",
              "      <td>SATAN 2: Russia unvelis an image of its terrif...</td>\n",
              "      <td>The RS-28 Sarmat missile, dubbed Satan 2, will...</td>\n",
              "      <td>1</td>\n",
              "    </tr>\n",
              "  </tbody>\n",
              "</table>\n",
              "</div>\n",
              "    <div class=\"colab-df-buttons\">\n",
              "\n",
              "  <div class=\"colab-df-container\">\n",
              "    <button class=\"colab-df-convert\" onclick=\"convertToInteractive('df-807b1faf-46fd-4d8b-9002-4af3bade1df7')\"\n",
              "            title=\"Convert this dataframe to an interactive table.\"\n",
              "            style=\"display:none;\">\n",
              "\n",
              "  <svg xmlns=\"http://www.w3.org/2000/svg\" height=\"24px\" viewBox=\"0 -960 960 960\">\n",
              "    <path d=\"M120-120v-720h720v720H120Zm60-500h600v-160H180v160Zm220 220h160v-160H400v160Zm0 220h160v-160H400v160ZM180-400h160v-160H180v160Zm440 0h160v-160H620v160ZM180-180h160v-160H180v160Zm440 0h160v-160H620v160Z\"/>\n",
              "  </svg>\n",
              "    </button>\n",
              "\n",
              "  <style>\n",
              "    .colab-df-container {\n",
              "      display:flex;\n",
              "      gap: 12px;\n",
              "    }\n",
              "\n",
              "    .colab-df-convert {\n",
              "      background-color: #E8F0FE;\n",
              "      border: none;\n",
              "      border-radius: 50%;\n",
              "      cursor: pointer;\n",
              "      display: none;\n",
              "      fill: #1967D2;\n",
              "      height: 32px;\n",
              "      padding: 0 0 0 0;\n",
              "      width: 32px;\n",
              "    }\n",
              "\n",
              "    .colab-df-convert:hover {\n",
              "      background-color: #E2EBFA;\n",
              "      box-shadow: 0px 1px 2px rgba(60, 64, 67, 0.3), 0px 1px 3px 1px rgba(60, 64, 67, 0.15);\n",
              "      fill: #174EA6;\n",
              "    }\n",
              "\n",
              "    .colab-df-buttons div {\n",
              "      margin-bottom: 4px;\n",
              "    }\n",
              "\n",
              "    [theme=dark] .colab-df-convert {\n",
              "      background-color: #3B4455;\n",
              "      fill: #D2E3FC;\n",
              "    }\n",
              "\n",
              "    [theme=dark] .colab-df-convert:hover {\n",
              "      background-color: #434B5C;\n",
              "      box-shadow: 0px 1px 3px 1px rgba(0, 0, 0, 0.15);\n",
              "      filter: drop-shadow(0px 1px 2px rgba(0, 0, 0, 0.3));\n",
              "      fill: #FFFFFF;\n",
              "    }\n",
              "  </style>\n",
              "\n",
              "    <script>\n",
              "      const buttonEl =\n",
              "        document.querySelector('#df-807b1faf-46fd-4d8b-9002-4af3bade1df7 button.colab-df-convert');\n",
              "      buttonEl.style.display =\n",
              "        google.colab.kernel.accessAllowed ? 'block' : 'none';\n",
              "\n",
              "      async function convertToInteractive(key) {\n",
              "        const element = document.querySelector('#df-807b1faf-46fd-4d8b-9002-4af3bade1df7');\n",
              "        const dataTable =\n",
              "          await google.colab.kernel.invokeFunction('convertToInteractive',\n",
              "                                                    [key], {});\n",
              "        if (!dataTable) return;\n",
              "\n",
              "        const docLinkHtml = 'Like what you see? Visit the ' +\n",
              "          '<a target=\"_blank\" href=https://colab.research.google.com/notebooks/data_table.ipynb>data table notebook</a>'\n",
              "          + ' to learn more about interactive tables.';\n",
              "        element.innerHTML = '';\n",
              "        dataTable['output_type'] = 'display_data';\n",
              "        await google.colab.output.renderOutput(dataTable, element);\n",
              "        const docLink = document.createElement('div');\n",
              "        docLink.innerHTML = docLinkHtml;\n",
              "        element.appendChild(docLink);\n",
              "      }\n",
              "    </script>\n",
              "  </div>\n",
              "\n",
              "\n",
              "    <div id=\"df-d2011c31-e9f9-45f5-b2f4-1b4790f19ebe\">\n",
              "      <button class=\"colab-df-quickchart\" onclick=\"quickchart('df-d2011c31-e9f9-45f5-b2f4-1b4790f19ebe')\"\n",
              "                title=\"Suggest charts\"\n",
              "                style=\"display:none;\">\n",
              "\n",
              "<svg xmlns=\"http://www.w3.org/2000/svg\" height=\"24px\"viewBox=\"0 0 24 24\"\n",
              "     width=\"24px\">\n",
              "    <g>\n",
              "        <path d=\"M19 3H5c-1.1 0-2 .9-2 2v14c0 1.1.9 2 2 2h14c1.1 0 2-.9 2-2V5c0-1.1-.9-2-2-2zM9 17H7v-7h2v7zm4 0h-2V7h2v10zm4 0h-2v-4h2v4z\"/>\n",
              "    </g>\n",
              "</svg>\n",
              "      </button>\n",
              "\n",
              "<style>\n",
              "  .colab-df-quickchart {\n",
              "      --bg-color: #E8F0FE;\n",
              "      --fill-color: #1967D2;\n",
              "      --hover-bg-color: #E2EBFA;\n",
              "      --hover-fill-color: #174EA6;\n",
              "      --disabled-fill-color: #AAA;\n",
              "      --disabled-bg-color: #DDD;\n",
              "  }\n",
              "\n",
              "  [theme=dark] .colab-df-quickchart {\n",
              "      --bg-color: #3B4455;\n",
              "      --fill-color: #D2E3FC;\n",
              "      --hover-bg-color: #434B5C;\n",
              "      --hover-fill-color: #FFFFFF;\n",
              "      --disabled-bg-color: #3B4455;\n",
              "      --disabled-fill-color: #666;\n",
              "  }\n",
              "\n",
              "  .colab-df-quickchart {\n",
              "    background-color: var(--bg-color);\n",
              "    border: none;\n",
              "    border-radius: 50%;\n",
              "    cursor: pointer;\n",
              "    display: none;\n",
              "    fill: var(--fill-color);\n",
              "    height: 32px;\n",
              "    padding: 0;\n",
              "    width: 32px;\n",
              "  }\n",
              "\n",
              "  .colab-df-quickchart:hover {\n",
              "    background-color: var(--hover-bg-color);\n",
              "    box-shadow: 0 1px 2px rgba(60, 64, 67, 0.3), 0 1px 3px 1px rgba(60, 64, 67, 0.15);\n",
              "    fill: var(--button-hover-fill-color);\n",
              "  }\n",
              "\n",
              "  .colab-df-quickchart-complete:disabled,\n",
              "  .colab-df-quickchart-complete:disabled:hover {\n",
              "    background-color: var(--disabled-bg-color);\n",
              "    fill: var(--disabled-fill-color);\n",
              "    box-shadow: none;\n",
              "  }\n",
              "\n",
              "  .colab-df-spinner {\n",
              "    border: 2px solid var(--fill-color);\n",
              "    border-color: transparent;\n",
              "    border-bottom-color: var(--fill-color);\n",
              "    animation:\n",
              "      spin 1s steps(1) infinite;\n",
              "  }\n",
              "\n",
              "  @keyframes spin {\n",
              "    0% {\n",
              "      border-color: transparent;\n",
              "      border-bottom-color: var(--fill-color);\n",
              "      border-left-color: var(--fill-color);\n",
              "    }\n",
              "    20% {\n",
              "      border-color: transparent;\n",
              "      border-left-color: var(--fill-color);\n",
              "      border-top-color: var(--fill-color);\n",
              "    }\n",
              "    30% {\n",
              "      border-color: transparent;\n",
              "      border-left-color: var(--fill-color);\n",
              "      border-top-color: var(--fill-color);\n",
              "      border-right-color: var(--fill-color);\n",
              "    }\n",
              "    40% {\n",
              "      border-color: transparent;\n",
              "      border-right-color: var(--fill-color);\n",
              "      border-top-color: var(--fill-color);\n",
              "    }\n",
              "    60% {\n",
              "      border-color: transparent;\n",
              "      border-right-color: var(--fill-color);\n",
              "    }\n",
              "    80% {\n",
              "      border-color: transparent;\n",
              "      border-right-color: var(--fill-color);\n",
              "      border-bottom-color: var(--fill-color);\n",
              "    }\n",
              "    90% {\n",
              "      border-color: transparent;\n",
              "      border-bottom-color: var(--fill-color);\n",
              "    }\n",
              "  }\n",
              "</style>\n",
              "\n",
              "      <script>\n",
              "        async function quickchart(key) {\n",
              "          const quickchartButtonEl =\n",
              "            document.querySelector('#' + key + ' button');\n",
              "          quickchartButtonEl.disabled = true;  // To prevent multiple clicks.\n",
              "          quickchartButtonEl.classList.add('colab-df-spinner');\n",
              "          try {\n",
              "            const charts = await google.colab.kernel.invokeFunction(\n",
              "                'suggestCharts', [key], {});\n",
              "          } catch (error) {\n",
              "            console.error('Error during call to suggestCharts:', error);\n",
              "          }\n",
              "          quickchartButtonEl.classList.remove('colab-df-spinner');\n",
              "          quickchartButtonEl.classList.add('colab-df-quickchart-complete');\n",
              "        }\n",
              "        (() => {\n",
              "          let quickchartButtonEl =\n",
              "            document.querySelector('#df-d2011c31-e9f9-45f5-b2f4-1b4790f19ebe button');\n",
              "          quickchartButtonEl.style.display =\n",
              "            google.colab.kernel.accessAllowed ? 'block' : 'none';\n",
              "        })();\n",
              "      </script>\n",
              "    </div>\n",
              "\n",
              "    </div>\n",
              "  </div>\n"
            ],
            "application/vnd.google.colaboratory.intrinsic+json": {
              "type": "dataframe",
              "variable_name": "news_dataset",
              "summary": "{\n  \"name\": \"news_dataset\",\n  \"rows\": 10000,\n  \"fields\": [\n    {\n      \"column\": \"id\",\n      \"properties\": {\n        \"dtype\": \"number\",\n        \"std\": 2886,\n        \"min\": 0,\n        \"max\": 9999,\n        \"num_unique_values\": 10000,\n        \"samples\": [\n          6252,\n          4684,\n          1731\n        ],\n        \"semantic_type\": \"\",\n        \"description\": \"\"\n      }\n    },\n    {\n      \"column\": \"title\",\n      \"properties\": {\n        \"dtype\": \"string\",\n        \"num_unique_values\": 9754,\n        \"samples\": [\n          \"Former Vanderbilt Football Player Found Guilty in Campus Rape - The New York Times\",\n          \"Sen. Liz Warren Refuses to Disavow Madonna\\u2019s Wish to \\u2019Blow Up the White House\\u2019 - Breitbart\",\n          \"Democrats: \\\"Blacks are really F**ked in the Head\\\" caught on TAPE\"\n        ],\n        \"semantic_type\": \"\",\n        \"description\": \"\"\n      }\n    },\n    {\n      \"column\": \"text\",\n      \"properties\": {\n        \"dtype\": \"string\",\n        \"num_unique_values\": 9683,\n        \"samples\": [\n          \"MOSCOW (Reuters) - The latest U.S. sanctions imposed on five Russians and Chechens  are grotesque and groundless, and Moscow will hit back with tit-for-tat sanctions, Russian Foreign Ministry spokeswoman Maria Zakharova said on Thursday. The U.S. Treasury Department on Wednesday imposed the new sanctions on the five people, including on Chechen Republic head Ramzan Kadyrov, for alleged human rights abuses. \",\n          \"Scientists say they may have found a sort of magic ingredient to prevent asthma in children: microbes from farm animals, carried into the home in dust. The results of their research, published on Wednesday in The New England Journal of Medicine, were so convincing that they raised the possibility of developing a spray to do the same thing for children who do not have regular contact with cows and horses. It is a pressing problem because as many as 10. 6 percent of   children have asthma, according to data from the Centers for Disease Control and Prevention. And there is no cure for this chronic and frightening disease. The discovery originated with an idea that has been around for years: that a growing number of children were developing asthma because their daily environments were simply too clean. If children are exposed to microbes that stimulate their immune systems in the first few years of life, they will be protected against asthma, the hypothesis says. As asthma rates climbed, researchers published study after study supporting what has become known as the hygiene hypothesis. The most consistent findings were from studies that compared children who grew up on farms  \\u2014   less asthma  \\u2014   with children who grew up in other environments. But in every case, there were many other differences between the children who had less asthma and those who had more. So it was not clear what exactly might have led to different asthma rates. What was missing was evidence that one essential factor in the environment was protecting children. And what was needed was a reason it had exerted its effect. The new study provides this, asthma researchers say, which is what makes its results so spectacular. It is still early. The study was small, and even though its results were striking, more work needs to be done. But, said Dr. Brian Christman, a pulmonologist at Vanderbilt University and a volunteer spokesman for the American Lung Association, \\u201cThey really nailed it. \\u201d The new work began when a group of investigators noticed that something peculiar was happening with children from two insular farming groups: the Amish of Indiana and the Hutterites of North Dakota. Asthma is rare among the Amish, affecting 2 to 4 percent of the population, but common among the Hutterites, with 15 to 20 percent affected. Yet the Amish and the Hutterites have similar genetic backgrounds. The Amish originated in Switzerland, the Hutterites in Austria. Members of both groups have large families and a very simple lifestyle. Their diets are similar, children in both groups have little exposure to tobacco smoke or polluted air, and both groups forbid indoor pets. Both groups also have meticulously clean homes. There was one difference, though: farming methods. The Amish live on   dairy farms. They do not use electricity, and use horses to pull their plows and for transportation. Their barns are close to their homes, and their children play in them. The Hutterites have no objection to electricity and live on large, industrialized communal farms. Their cows are housed in huge barns, more like hangars, away from their homes. Children do not generally play in Hutterite barns. The researchers decided to start with a small study. They looked at 30 Amish children and 30 Hutterite children and asked what sort of immune cells were in their blood. \\u201cWe never thought we would see a difference,\\u201d said Carole Ober, an author of the study and the chairwoman of the department of human genetics at the University of Chicago. To the researchers\\u2019 astonishment, she said,\\u201cwe saw whopping differences with very, very different cell types and cell numbers. \\u201d None of the Amish children had asthma. And they all had a large proportion of neutrophils  \\u2014   white blood cells that are the immune system\\u2019s paramedics and are part of what is known as the innate immune system. These children\\u2019s neutrophils were newly emerged from their bone marrow, evidence of a continual   reaction to microbial invaders. \\u201cAll 30 of the Amish kids had this,\\u201d said Anne I. Sperling, another author of the study and an associate professor of immunology and medicine at the University of Chicago. By contrast, six of the 30 Hutterite children had asthma, and all of them had far fewer neutrophils in their blood. The neutrophils that they did have were older ones, not cells that had just emerged. Instead, their blood was swarming with another type of immune cell, eosinophils, which provoke allergic reactions. It was as if they were primed for an asthma attack as soon as they breathed something to set it off. With the Amish children, Dr. Sperling said, it would clearly take a lot more provocation to set off an allergic response. The researchers decided that the differences between the Amish and the Hutterite children were so great that they should forge ahead with additional research to try to figure out what was stimulating the Amish innate immune system. They analyzed dust from the Amish and the Hutterite homes. The Amish dust was loaded with debris from bacteria the Hutterite dust was not. The researchers sent the dust to Dr. Donata Vercelli, an associate director of the asthma and airway research center at the University of Arizona, who would test the dust in mice. She put dust  \\u2014   Amish or Hutterite  \\u2014   into the airways of mice 14 times over a month and then exposed the animals to allergens. She measured how the airways responded: Did they constrict and twitch? Were they inflamed? \\u201cWe found exactly what we found in the children,\\u201d Dr. Vercelli said. \\u201cIf we give the Amish dust, we protect the mice. If we give the Hutterite dust, we do not protect them. \\u201d Dr. Ober and her colleagues heard the results in a conference call with Dr. Sperling. \\u201cOur jaws were hanging open,\\u201d Dr. Ober said. \\u201cWe could not believe it. \\u201d Dr. Vercelli repeated the test and added another control. She gave the Amish dust to mice that were missing genes needed for the innate immune response. This time, the dust did not protect them. \\u201cIt was incredibly exciting,\\u201d Dr. Sperling said. \\u201cNow we have a model that allows us to do these studies like never before. We can zoom in on microbial products. \\u201d The work is scientifically sound, said Dr. William Busse, a professor of allergy, pulmonary and critical care medicine at the University of Wisconsin. \\u201cIt is an extremely positive march forward,\\u201d he said. \\u201cThis is an exciting paper. \\u201d Now, said Dr. Talal Chatila, an immunologist at Harvard Medical School, \\u201cit is not   to start thinking of how one could harness those bacteria for a therapeutic intervention. \\u201d Dr. Chatila, who wrote an editorial accompanying the new paper, hastened to add that he was not suggesting that people start packaging Amish dust and selling it in pharmacies to protect children from asthma. But, he said, \\u201cI wouldn\\u2019t be surprised if inactive forms of the bacteria could be used. \\u201d\",\n          \"President Vladimir V. Putin laid the groundwork this week for a possible   of Russian sports leadership in the wake of a doping controversy that has implicated government officials. At a state sports meeting in Kovrov, Russia, Mr. Putin outlined a broad strategy to redeem the country with global Olympic officials five months after a former director of Russia\\u2019s antidoping laboratory detailed a cheating scheme executed by the Russian state. Mr. Putin said that Alexander Zhukov, head of the Russian Olympic Committee since 2010, would step down two years before his term was set to expire, to focus on a new role in the Russian parliament. Before naming his successor, Mr. Putin said, the government would consult with the International Olympic Committee, which has established a disciplinary commission that is set to consider penalties for Russia ahead of the next Winter Games, in 2018. Pointing to Russia\\u2019s   finish in the medal standings at this year\\u2019s Rio Games  \\u2014   behind the United States, China and Britain  \\u2014   Mr. Zhukov and Mr. Putin on Tuesday praised Russia\\u2019s Olympic delegation for its \\u201cability to take a punch\\u201d amid \\u201can aggressive information campaign against Russian athletes. \\u201d Noting that Russia won no medals in diving in Rio, Mr. Zhukov suggested the country recruit specialists from China, given its dominance in the sport. Mr. Putin also hinted at possible changes in Russian sports leadership, announcing a new government position to oversee sports, tourism and youth policy. It was not immediately clear whether that expanded portfolio would be taken on by Vitaly Mutko, Russia\\u2019s sports minister. \\u201cImportantly, these are the first steps on the path of reform in the sports sector,\\u201d Mr. Putin said, denouncing the \\u201cprejudice against our athletes\\u201d and doping in sports while assuming hazy responsibility for \\u201ca number of errors and miscalculations in this important and very sensitive area. \\u201d He said government authorities and a newly created antidoping commission were focused on redeeming Russia\\u2019s standing in global sports. Russia\\u2019s track and field team remains barred from global competition, its Paralympic team suspended and its national antidoping agency decertified by the global antidoping regulator. Mr. Putin emphasized the government\\u2019s financial support of Russia\\u2019s antidoping activities, including its annual contributions to the World   Agency, which has made Russia the subject of several investigations over the last year. He suggested a change in the structure of Russia\\u2019s antidoping system, proposing to distance it from the sports ministry and instead have it managed by Russia\\u2019s Olympic committee. Since the country\\u2019s former lab director, Dr. Grigory Rodchenkov, outlined in May the precise contours of a   doping system in an interview with The New York Times, Mr. Putin and the country\\u2019s top sports officials, including Mr. Zhukov and Mr. Mutko, have been publicly defiant. They called Dr. Rodchenkov, who fled to the United States, a traitor and insisted that his account was fabricated while obliquely acknowledging doping was a \\u201cblack spot\\u201d on the country. But an investigation commissioned by WADA produced proof of Dr. Rodchenkov\\u2019s claims, along with evidence establishing Mr. Mutko\\u2019s deputy minister, Yuri Nagornykh, as critical in covering up the use of   drugs by top athletes at the 2014 Sochi Olympics, as well as in the years before and after. Mr. Nagornykh disputed The Times\\u2019s report in May. After the antidoping regulator published the results of its inquiry in July, Mr. Putin suspended him. Although Mr. Mutko was named in the report as having been complicit in the system, his status as minister has remained steady. Still, the revelations left Russian sports officials scrambling to defend the country\\u2019s participation in the Rio Olympics mere weeks before they began. Mr. Zhukov was a key ambassador in that crusade, maintaining that the Russian Olympic Committee was independent of the government and unaffected by any shadows cast on the country\\u2019s sports ministry. (Mr. Nagornykh, however, had occupied overlapping roles as deputy minister and a Russian Olympic Committee official.) In the days before Russia\\u2019s Olympic roster was completed, Mr. Zhukov politicked at a hotel in Rio and pledged that his country\\u2019s delegation would be the purest of any at the Games, given the level of scrutiny applied to it. Mr. Mutko, however, was refused admittance to the Olympics and did not travel to Rio with Russia\\u2019s team, which was cut by nearly a third after sports officials deemed athletes tainted unless they proved a rigorous history of drug tests. Now, with Olympic officials anticipating the results of a second investigation this fall  \\u2014   which is expected to identify Russian athletes who benefited from the doping system  \\u2014   Russia is bracing itself for disciplinary action. Beyond jeopardizing the 33 medals Russia won at the Sochi Games  \\u2014   at least 15 of which Dr. Rodchenkov said were won by athletes who had used his   cocktail of anabolic steroids  \\u2014   possible penalties could extend to the Winter Olympics in Pyeongchang, South Korea, in February 2018. Some antidoping authorities who lobbied that the Russian flag not fly in Rio have called on Olympic officials to penalize Russia more severely. Joseph de Pencier, chief executive of the Institute of National   Organizations, said last week that he hoped \\u201cthe reception of Russian athletes in Pyeongchang is very different than the one in Rio,\\u201d adding, \\u201cThe I. O. C. can redeem itself. \\u201d Mr. Putin also publicly waded into the nuances of antidoping protocols in sports this week, criticizing the practice of allowing athletes to use prohibited drugs for legitimate medical reasons. That topic has received global attention this fall, after Russian hackers breached WADA\\u2019s athlete database and published the private medical records of top athletes. Of the records the hackers have chosen to release, roughly half relate to American, British and Canadian athletes. The hackers identified themselves as Fancy Bear, a Russian cyberespionage group that forensics specialists have tied to breaches against government agencies, nonprofit organizations and corporations. The I. O. C. and WADA have denounced the hacks, which law enforcement authorities are investigating.\"\n        ],\n        \"semantic_type\": \"\",\n        \"description\": \"\"\n      }\n    },\n    {\n      \"column\": \"label\",\n      \"properties\": {\n        \"dtype\": \"number\",\n        \"std\": 0,\n        \"min\": 0,\n        \"max\": 1,\n        \"num_unique_values\": 2,\n        \"samples\": [\n          0,\n          1\n        ],\n        \"semantic_type\": \"\",\n        \"description\": \"\"\n      }\n    }\n  ]\n}"
            }
          },
          "metadata": {},
          "execution_count": 7
        }
      ]
    },
    {
      "cell_type": "code",
      "source": [
        "news_dataset.isnull().sum() #count of how many missing values are present in each column of your dataset."
      ],
      "metadata": {
        "colab": {
          "base_uri": "https://localhost:8080/",
          "height": 209
        },
        "id": "6hCfnTyobsOv",
        "outputId": "ef992e3c-a4b5-40f6-d93d-59d7338d94c6"
      },
      "execution_count": 8,
      "outputs": [
        {
          "output_type": "execute_result",
          "data": {
            "text/plain": [
              "id        0\n",
              "title    65\n",
              "text      8\n",
              "label     0\n",
              "dtype: int64"
            ],
            "text/html": [
              "<div>\n",
              "<style scoped>\n",
              "    .dataframe tbody tr th:only-of-type {\n",
              "        vertical-align: middle;\n",
              "    }\n",
              "\n",
              "    .dataframe tbody tr th {\n",
              "        vertical-align: top;\n",
              "    }\n",
              "\n",
              "    .dataframe thead th {\n",
              "        text-align: right;\n",
              "    }\n",
              "</style>\n",
              "<table border=\"1\" class=\"dataframe\">\n",
              "  <thead>\n",
              "    <tr style=\"text-align: right;\">\n",
              "      <th></th>\n",
              "      <th>0</th>\n",
              "    </tr>\n",
              "  </thead>\n",
              "  <tbody>\n",
              "    <tr>\n",
              "      <th>id</th>\n",
              "      <td>0</td>\n",
              "    </tr>\n",
              "    <tr>\n",
              "      <th>title</th>\n",
              "      <td>65</td>\n",
              "    </tr>\n",
              "    <tr>\n",
              "      <th>text</th>\n",
              "      <td>8</td>\n",
              "    </tr>\n",
              "    <tr>\n",
              "      <th>label</th>\n",
              "      <td>0</td>\n",
              "    </tr>\n",
              "  </tbody>\n",
              "</table>\n",
              "</div><br><label><b>dtype:</b> int64</label>"
            ]
          },
          "metadata": {},
          "execution_count": 8
        }
      ]
    },
    {
      "cell_type": "code",
      "source": [
        "# will use Imputation as a lot of values are missing, but won't do it here, have enough to train our dataset"
      ],
      "metadata": {
        "id": "3XTSVawVbzG2"
      },
      "execution_count": 9,
      "outputs": []
    },
    {
      "cell_type": "code",
      "source": [
        "# Will replace the value with null string: means  'empty string'"
      ],
      "metadata": {
        "id": "3xUwq23ocTqC"
      },
      "execution_count": 10,
      "outputs": []
    },
    {
      "cell_type": "code",
      "source": [
        "news_dataset = news_dataset.fillna('') #'' : means null string, replace missing values by null string"
      ],
      "metadata": {
        "id": "2bt4RoLHcWD8"
      },
      "execution_count": 11,
      "outputs": []
    },
    {
      "cell_type": "code",
      "source": [
        "#Merging title and text:\n",
        "news_dataset['content'] = news_dataset['title']+' '+news_dataset['text']"
      ],
      "metadata": {
        "id": "swh6ZEqbcmOI"
      },
      "execution_count": 12,
      "outputs": []
    },
    {
      "cell_type": "code",
      "source": [
        "news_dataset.head()"
      ],
      "metadata": {
        "colab": {
          "base_uri": "https://localhost:8080/",
          "height": 293
        },
        "id": "KEGdSH4zvWC3",
        "outputId": "5fa62602-db67-4fb2-cff1-1a3464c316be"
      },
      "execution_count": 13,
      "outputs": [
        {
          "output_type": "execute_result",
          "data": {
            "text/plain": [
              "   id                                              title  \\\n",
              "0   0  LAW ENFORCEMENT ON HIGH ALERT Following Threat...   \n",
              "1   1                                                      \n",
              "2   2  UNBELIEVABLE! OBAMA’S ATTORNEY GENERAL SAYS MO...   \n",
              "3   3  Bobby Jindal, raised Hindu, uses story of Chri...   \n",
              "4   4  SATAN 2: Russia unvelis an image of its terrif...   \n",
              "\n",
              "                                                text  label  \\\n",
              "0  No comment is expected from Barack Obama Membe...      1   \n",
              "1     Did they post their votes for Hillary already?      1   \n",
              "2   Now, most of the demonstrators gathered last ...      1   \n",
              "3  A dozen politically active pastors came here f...      0   \n",
              "4  The RS-28 Sarmat missile, dubbed Satan 2, will...      1   \n",
              "\n",
              "                                             content  \n",
              "0  LAW ENFORCEMENT ON HIGH ALERT Following Threat...  \n",
              "1     Did they post their votes for Hillary already?  \n",
              "2  UNBELIEVABLE! OBAMA’S ATTORNEY GENERAL SAYS MO...  \n",
              "3  Bobby Jindal, raised Hindu, uses story of Chri...  \n",
              "4  SATAN 2: Russia unvelis an image of its terrif...  "
            ],
            "text/html": [
              "\n",
              "  <div id=\"df-4e74a538-139c-42e5-b16b-f90b3213a58f\" class=\"colab-df-container\">\n",
              "    <div>\n",
              "<style scoped>\n",
              "    .dataframe tbody tr th:only-of-type {\n",
              "        vertical-align: middle;\n",
              "    }\n",
              "\n",
              "    .dataframe tbody tr th {\n",
              "        vertical-align: top;\n",
              "    }\n",
              "\n",
              "    .dataframe thead th {\n",
              "        text-align: right;\n",
              "    }\n",
              "</style>\n",
              "<table border=\"1\" class=\"dataframe\">\n",
              "  <thead>\n",
              "    <tr style=\"text-align: right;\">\n",
              "      <th></th>\n",
              "      <th>id</th>\n",
              "      <th>title</th>\n",
              "      <th>text</th>\n",
              "      <th>label</th>\n",
              "      <th>content</th>\n",
              "    </tr>\n",
              "  </thead>\n",
              "  <tbody>\n",
              "    <tr>\n",
              "      <th>0</th>\n",
              "      <td>0</td>\n",
              "      <td>LAW ENFORCEMENT ON HIGH ALERT Following Threat...</td>\n",
              "      <td>No comment is expected from Barack Obama Membe...</td>\n",
              "      <td>1</td>\n",
              "      <td>LAW ENFORCEMENT ON HIGH ALERT Following Threat...</td>\n",
              "    </tr>\n",
              "    <tr>\n",
              "      <th>1</th>\n",
              "      <td>1</td>\n",
              "      <td></td>\n",
              "      <td>Did they post their votes for Hillary already?</td>\n",
              "      <td>1</td>\n",
              "      <td>Did they post their votes for Hillary already?</td>\n",
              "    </tr>\n",
              "    <tr>\n",
              "      <th>2</th>\n",
              "      <td>2</td>\n",
              "      <td>UNBELIEVABLE! OBAMA’S ATTORNEY GENERAL SAYS MO...</td>\n",
              "      <td>Now, most of the demonstrators gathered last ...</td>\n",
              "      <td>1</td>\n",
              "      <td>UNBELIEVABLE! OBAMA’S ATTORNEY GENERAL SAYS MO...</td>\n",
              "    </tr>\n",
              "    <tr>\n",
              "      <th>3</th>\n",
              "      <td>3</td>\n",
              "      <td>Bobby Jindal, raised Hindu, uses story of Chri...</td>\n",
              "      <td>A dozen politically active pastors came here f...</td>\n",
              "      <td>0</td>\n",
              "      <td>Bobby Jindal, raised Hindu, uses story of Chri...</td>\n",
              "    </tr>\n",
              "    <tr>\n",
              "      <th>4</th>\n",
              "      <td>4</td>\n",
              "      <td>SATAN 2: Russia unvelis an image of its terrif...</td>\n",
              "      <td>The RS-28 Sarmat missile, dubbed Satan 2, will...</td>\n",
              "      <td>1</td>\n",
              "      <td>SATAN 2: Russia unvelis an image of its terrif...</td>\n",
              "    </tr>\n",
              "  </tbody>\n",
              "</table>\n",
              "</div>\n",
              "    <div class=\"colab-df-buttons\">\n",
              "\n",
              "  <div class=\"colab-df-container\">\n",
              "    <button class=\"colab-df-convert\" onclick=\"convertToInteractive('df-4e74a538-139c-42e5-b16b-f90b3213a58f')\"\n",
              "            title=\"Convert this dataframe to an interactive table.\"\n",
              "            style=\"display:none;\">\n",
              "\n",
              "  <svg xmlns=\"http://www.w3.org/2000/svg\" height=\"24px\" viewBox=\"0 -960 960 960\">\n",
              "    <path d=\"M120-120v-720h720v720H120Zm60-500h600v-160H180v160Zm220 220h160v-160H400v160Zm0 220h160v-160H400v160ZM180-400h160v-160H180v160Zm440 0h160v-160H620v160ZM180-180h160v-160H180v160Zm440 0h160v-160H620v160Z\"/>\n",
              "  </svg>\n",
              "    </button>\n",
              "\n",
              "  <style>\n",
              "    .colab-df-container {\n",
              "      display:flex;\n",
              "      gap: 12px;\n",
              "    }\n",
              "\n",
              "    .colab-df-convert {\n",
              "      background-color: #E8F0FE;\n",
              "      border: none;\n",
              "      border-radius: 50%;\n",
              "      cursor: pointer;\n",
              "      display: none;\n",
              "      fill: #1967D2;\n",
              "      height: 32px;\n",
              "      padding: 0 0 0 0;\n",
              "      width: 32px;\n",
              "    }\n",
              "\n",
              "    .colab-df-convert:hover {\n",
              "      background-color: #E2EBFA;\n",
              "      box-shadow: 0px 1px 2px rgba(60, 64, 67, 0.3), 0px 1px 3px 1px rgba(60, 64, 67, 0.15);\n",
              "      fill: #174EA6;\n",
              "    }\n",
              "\n",
              "    .colab-df-buttons div {\n",
              "      margin-bottom: 4px;\n",
              "    }\n",
              "\n",
              "    [theme=dark] .colab-df-convert {\n",
              "      background-color: #3B4455;\n",
              "      fill: #D2E3FC;\n",
              "    }\n",
              "\n",
              "    [theme=dark] .colab-df-convert:hover {\n",
              "      background-color: #434B5C;\n",
              "      box-shadow: 0px 1px 3px 1px rgba(0, 0, 0, 0.15);\n",
              "      filter: drop-shadow(0px 1px 2px rgba(0, 0, 0, 0.3));\n",
              "      fill: #FFFFFF;\n",
              "    }\n",
              "  </style>\n",
              "\n",
              "    <script>\n",
              "      const buttonEl =\n",
              "        document.querySelector('#df-4e74a538-139c-42e5-b16b-f90b3213a58f button.colab-df-convert');\n",
              "      buttonEl.style.display =\n",
              "        google.colab.kernel.accessAllowed ? 'block' : 'none';\n",
              "\n",
              "      async function convertToInteractive(key) {\n",
              "        const element = document.querySelector('#df-4e74a538-139c-42e5-b16b-f90b3213a58f');\n",
              "        const dataTable =\n",
              "          await google.colab.kernel.invokeFunction('convertToInteractive',\n",
              "                                                    [key], {});\n",
              "        if (!dataTable) return;\n",
              "\n",
              "        const docLinkHtml = 'Like what you see? Visit the ' +\n",
              "          '<a target=\"_blank\" href=https://colab.research.google.com/notebooks/data_table.ipynb>data table notebook</a>'\n",
              "          + ' to learn more about interactive tables.';\n",
              "        element.innerHTML = '';\n",
              "        dataTable['output_type'] = 'display_data';\n",
              "        await google.colab.output.renderOutput(dataTable, element);\n",
              "        const docLink = document.createElement('div');\n",
              "        docLink.innerHTML = docLinkHtml;\n",
              "        element.appendChild(docLink);\n",
              "      }\n",
              "    </script>\n",
              "  </div>\n",
              "\n",
              "\n",
              "    <div id=\"df-19768738-99c4-4d43-9402-770db3223135\">\n",
              "      <button class=\"colab-df-quickchart\" onclick=\"quickchart('df-19768738-99c4-4d43-9402-770db3223135')\"\n",
              "                title=\"Suggest charts\"\n",
              "                style=\"display:none;\">\n",
              "\n",
              "<svg xmlns=\"http://www.w3.org/2000/svg\" height=\"24px\"viewBox=\"0 0 24 24\"\n",
              "     width=\"24px\">\n",
              "    <g>\n",
              "        <path d=\"M19 3H5c-1.1 0-2 .9-2 2v14c0 1.1.9 2 2 2h14c1.1 0 2-.9 2-2V5c0-1.1-.9-2-2-2zM9 17H7v-7h2v7zm4 0h-2V7h2v10zm4 0h-2v-4h2v4z\"/>\n",
              "    </g>\n",
              "</svg>\n",
              "      </button>\n",
              "\n",
              "<style>\n",
              "  .colab-df-quickchart {\n",
              "      --bg-color: #E8F0FE;\n",
              "      --fill-color: #1967D2;\n",
              "      --hover-bg-color: #E2EBFA;\n",
              "      --hover-fill-color: #174EA6;\n",
              "      --disabled-fill-color: #AAA;\n",
              "      --disabled-bg-color: #DDD;\n",
              "  }\n",
              "\n",
              "  [theme=dark] .colab-df-quickchart {\n",
              "      --bg-color: #3B4455;\n",
              "      --fill-color: #D2E3FC;\n",
              "      --hover-bg-color: #434B5C;\n",
              "      --hover-fill-color: #FFFFFF;\n",
              "      --disabled-bg-color: #3B4455;\n",
              "      --disabled-fill-color: #666;\n",
              "  }\n",
              "\n",
              "  .colab-df-quickchart {\n",
              "    background-color: var(--bg-color);\n",
              "    border: none;\n",
              "    border-radius: 50%;\n",
              "    cursor: pointer;\n",
              "    display: none;\n",
              "    fill: var(--fill-color);\n",
              "    height: 32px;\n",
              "    padding: 0;\n",
              "    width: 32px;\n",
              "  }\n",
              "\n",
              "  .colab-df-quickchart:hover {\n",
              "    background-color: var(--hover-bg-color);\n",
              "    box-shadow: 0 1px 2px rgba(60, 64, 67, 0.3), 0 1px 3px 1px rgba(60, 64, 67, 0.15);\n",
              "    fill: var(--button-hover-fill-color);\n",
              "  }\n",
              "\n",
              "  .colab-df-quickchart-complete:disabled,\n",
              "  .colab-df-quickchart-complete:disabled:hover {\n",
              "    background-color: var(--disabled-bg-color);\n",
              "    fill: var(--disabled-fill-color);\n",
              "    box-shadow: none;\n",
              "  }\n",
              "\n",
              "  .colab-df-spinner {\n",
              "    border: 2px solid var(--fill-color);\n",
              "    border-color: transparent;\n",
              "    border-bottom-color: var(--fill-color);\n",
              "    animation:\n",
              "      spin 1s steps(1) infinite;\n",
              "  }\n",
              "\n",
              "  @keyframes spin {\n",
              "    0% {\n",
              "      border-color: transparent;\n",
              "      border-bottom-color: var(--fill-color);\n",
              "      border-left-color: var(--fill-color);\n",
              "    }\n",
              "    20% {\n",
              "      border-color: transparent;\n",
              "      border-left-color: var(--fill-color);\n",
              "      border-top-color: var(--fill-color);\n",
              "    }\n",
              "    30% {\n",
              "      border-color: transparent;\n",
              "      border-left-color: var(--fill-color);\n",
              "      border-top-color: var(--fill-color);\n",
              "      border-right-color: var(--fill-color);\n",
              "    }\n",
              "    40% {\n",
              "      border-color: transparent;\n",
              "      border-right-color: var(--fill-color);\n",
              "      border-top-color: var(--fill-color);\n",
              "    }\n",
              "    60% {\n",
              "      border-color: transparent;\n",
              "      border-right-color: var(--fill-color);\n",
              "    }\n",
              "    80% {\n",
              "      border-color: transparent;\n",
              "      border-right-color: var(--fill-color);\n",
              "      border-bottom-color: var(--fill-color);\n",
              "    }\n",
              "    90% {\n",
              "      border-color: transparent;\n",
              "      border-bottom-color: var(--fill-color);\n",
              "    }\n",
              "  }\n",
              "</style>\n",
              "\n",
              "      <script>\n",
              "        async function quickchart(key) {\n",
              "          const quickchartButtonEl =\n",
              "            document.querySelector('#' + key + ' button');\n",
              "          quickchartButtonEl.disabled = true;  // To prevent multiple clicks.\n",
              "          quickchartButtonEl.classList.add('colab-df-spinner');\n",
              "          try {\n",
              "            const charts = await google.colab.kernel.invokeFunction(\n",
              "                'suggestCharts', [key], {});\n",
              "          } catch (error) {\n",
              "            console.error('Error during call to suggestCharts:', error);\n",
              "          }\n",
              "          quickchartButtonEl.classList.remove('colab-df-spinner');\n",
              "          quickchartButtonEl.classList.add('colab-df-quickchart-complete');\n",
              "        }\n",
              "        (() => {\n",
              "          let quickchartButtonEl =\n",
              "            document.querySelector('#df-19768738-99c4-4d43-9402-770db3223135 button');\n",
              "          quickchartButtonEl.style.display =\n",
              "            google.colab.kernel.accessAllowed ? 'block' : 'none';\n",
              "        })();\n",
              "      </script>\n",
              "    </div>\n",
              "\n",
              "    </div>\n",
              "  </div>\n"
            ],
            "application/vnd.google.colaboratory.intrinsic+json": {
              "type": "dataframe",
              "variable_name": "news_dataset",
              "summary": "{\n  \"name\": \"news_dataset\",\n  \"rows\": 10000,\n  \"fields\": [\n    {\n      \"column\": \"id\",\n      \"properties\": {\n        \"dtype\": \"number\",\n        \"std\": 2886,\n        \"min\": 0,\n        \"max\": 9999,\n        \"num_unique_values\": 10000,\n        \"samples\": [\n          6252,\n          4684,\n          1731\n        ],\n        \"semantic_type\": \"\",\n        \"description\": \"\"\n      }\n    },\n    {\n      \"column\": \"title\",\n      \"properties\": {\n        \"dtype\": \"string\",\n        \"num_unique_values\": 9755,\n        \"samples\": [\n          \"SHAMELESS! Hillary Clinton Throws Benghazi Families Under The Bus\",\n          \"U.S. aims to trim its U.N. peacekeeping bill after Trump's calls to slash\",\n          \" Michelle Obama And Her Daughters Are Visiting Africa \\u2013 And Racists Are Having A Field Day (SCREENSHOTS)\"\n        ],\n        \"semantic_type\": \"\",\n        \"description\": \"\"\n      }\n    },\n    {\n      \"column\": \"text\",\n      \"properties\": {\n        \"dtype\": \"string\",\n        \"num_unique_values\": 9684,\n        \"samples\": [\n          \"DANANG, Vietnam (Reuters) - President Donald Trump said he believed President Vladimir Putin when he denied accusations that Russia meddled in last year s U.S. election, despite U.S. intelligence agencies  conclusion of Russian interference. Trump made the comment after he and Putin met briefly at a summit in Vietnam on Saturday and agreed on a joint statement supporting a political solution for Syria, now in its seventh year of civil war. It was the first encounter of the two leaders since July and came during a low in U.S.-Russia relations and at a time when Trump is haunted by an investigation into accusations that Putin influenced the election that brought him to the White House. Putin reiterated the denials of interference, Trump said.  Every time he sees me he says,  I didn t do that,  and I really believe that, when he tells me that, he means it,  Trump told reporters aboard Air Force One after leaving the Asia-Pacific Economic Cooperation (APEC) summit in the resort of Danang.  I think he is very insulted by it, which is not a good thing for our country,  Trump said. Trump has called allegations of campaign collusion with Moscow a hoax. A special counsel, Robert Mueller, is conducting a probe that has led to charges against Trump s former campaign manager Paul Manafort and his associate Rick Gates. U.S. intelligence agencies have also concluded Russians interfered to tip the election in Trump s favor through hacking and releasing emails to embarrass Democratic candidate Hillary Clinton and spreading social media propaganda. On Saturday, James Clapper, the former director of national intelligence, said Trump has been informed of the conclusions showing Russia s meddling.  President Trump was presented with clear and indisputable evidence that Russia interfered in the election.  Clapper told Reuters. Clapper was the national intelligence director when his office in January released the conclusion reached by the CIA, Federal Bureau of Investigation and National Security Agency that Russia had meddled in the 2016 U.S. presidential election told Reuters.  The fact that the President would take Putin at his word over that of the intelligence community is quite simply unconscionable,  Clapper said. Russia has repeatedly denied meddling. The Republican chairman of the Senate Armed Services Committee, John McCain, took Trump to task over his comments about Putin, using the  America First  phrase that Trump invoked at the APEC summit in laying out his trade priorities.  There s nothing  America First  about taking the word of a KGB colonel over that of the American intelligence community,  McCain said in a statement. Putin is a former KGB officer and ex-head of Russia s FSB security service. Adam Schiff, the top Democrat on the U.S. House of Representatives intelligence committee, which is investigating the issue, accused Trump of siding with Putin over U.S. intelligence agencies.  The President fools no one. He understands that the Russians intervened through the hacking and dumping of his opponent s emails, the fruits of which he exploited time and again on the campaign trail,  Schiff said in a statement. In Danang, Putin told reporters that an alleged link between Manafort and Russia was fabricated by Trump s opponents. Putin dismissed suggestions Russia influenced the elections through political advertising. Tech companies, including Facebook, have said some Russian-bought political content spread on their platforms around the time.  There is no confirmation of our mass media meddling in election campaigns   and there can t be any,  Putin said. Trump, who had emphasized on the 2016 campaign trail that it would be nice if the United States and Russia could work together, made this case again on Saturday. He said it would benefit Washington to have good ties with Moscow so they could work together on issues including Syria s civil war, the conflict in Ukraine and the North Korean nuclear crisis.  Look, I can t stand there and argue with him, I would rather have him get out of Syria,  Trump said.  I would rather ... get to work with him on the Ukraine rather than standing and arguing.  In Vietnam, Trump and Putin agreed a joint statement that said there was no military solution to the Syrian conflict, pledged to continue  de-confliction  to ensure the U.S. and Russian militaries do not clash there, and pledged new support for the U.N.-backed  Geneva process,  which has failed to find a political solution to end the conflict. Russia has militarily supported Syrian President Bashar al-Assad while the United States has at times backed Syrian rebels against him, though the recent U.S. focus has been on defeating the Islamic State militant group that had seized parts of Syria. With Islamic State having suffered losses in Syria, Iraq and beyond, greater attention is turning to the broader conflict between Assad s forces and rebel factions. Trump hailed the joint statement.  We did it very quickly,  he told reporters.  We seem to have a very good feeling for each other, a good relationship considering we don t know each other well.  After their meeting, Putin described Trump as  a well-mannered person and comfortable to deal with.  Trump and Putin were seen chatting amicably as they walked to the position where the traditional APEC summit photo was being taken at a viewpoint looking over the South China Sea. \",\n          \"Scientists say they may have found a sort of magic ingredient to prevent asthma in children: microbes from farm animals, carried into the home in dust. The results of their research, published on Wednesday in The New England Journal of Medicine, were so convincing that they raised the possibility of developing a spray to do the same thing for children who do not have regular contact with cows and horses. It is a pressing problem because as many as 10. 6 percent of   children have asthma, according to data from the Centers for Disease Control and Prevention. And there is no cure for this chronic and frightening disease. The discovery originated with an idea that has been around for years: that a growing number of children were developing asthma because their daily environments were simply too clean. If children are exposed to microbes that stimulate their immune systems in the first few years of life, they will be protected against asthma, the hypothesis says. As asthma rates climbed, researchers published study after study supporting what has become known as the hygiene hypothesis. The most consistent findings were from studies that compared children who grew up on farms  \\u2014   less asthma  \\u2014   with children who grew up in other environments. But in every case, there were many other differences between the children who had less asthma and those who had more. So it was not clear what exactly might have led to different asthma rates. What was missing was evidence that one essential factor in the environment was protecting children. And what was needed was a reason it had exerted its effect. The new study provides this, asthma researchers say, which is what makes its results so spectacular. It is still early. The study was small, and even though its results were striking, more work needs to be done. But, said Dr. Brian Christman, a pulmonologist at Vanderbilt University and a volunteer spokesman for the American Lung Association, \\u201cThey really nailed it. \\u201d The new work began when a group of investigators noticed that something peculiar was happening with children from two insular farming groups: the Amish of Indiana and the Hutterites of North Dakota. Asthma is rare among the Amish, affecting 2 to 4 percent of the population, but common among the Hutterites, with 15 to 20 percent affected. Yet the Amish and the Hutterites have similar genetic backgrounds. The Amish originated in Switzerland, the Hutterites in Austria. Members of both groups have large families and a very simple lifestyle. Their diets are similar, children in both groups have little exposure to tobacco smoke or polluted air, and both groups forbid indoor pets. Both groups also have meticulously clean homes. There was one difference, though: farming methods. The Amish live on   dairy farms. They do not use electricity, and use horses to pull their plows and for transportation. Their barns are close to their homes, and their children play in them. The Hutterites have no objection to electricity and live on large, industrialized communal farms. Their cows are housed in huge barns, more like hangars, away from their homes. Children do not generally play in Hutterite barns. The researchers decided to start with a small study. They looked at 30 Amish children and 30 Hutterite children and asked what sort of immune cells were in their blood. \\u201cWe never thought we would see a difference,\\u201d said Carole Ober, an author of the study and the chairwoman of the department of human genetics at the University of Chicago. To the researchers\\u2019 astonishment, she said,\\u201cwe saw whopping differences with very, very different cell types and cell numbers. \\u201d None of the Amish children had asthma. And they all had a large proportion of neutrophils  \\u2014   white blood cells that are the immune system\\u2019s paramedics and are part of what is known as the innate immune system. These children\\u2019s neutrophils were newly emerged from their bone marrow, evidence of a continual   reaction to microbial invaders. \\u201cAll 30 of the Amish kids had this,\\u201d said Anne I. Sperling, another author of the study and an associate professor of immunology and medicine at the University of Chicago. By contrast, six of the 30 Hutterite children had asthma, and all of them had far fewer neutrophils in their blood. The neutrophils that they did have were older ones, not cells that had just emerged. Instead, their blood was swarming with another type of immune cell, eosinophils, which provoke allergic reactions. It was as if they were primed for an asthma attack as soon as they breathed something to set it off. With the Amish children, Dr. Sperling said, it would clearly take a lot more provocation to set off an allergic response. The researchers decided that the differences between the Amish and the Hutterite children were so great that they should forge ahead with additional research to try to figure out what was stimulating the Amish innate immune system. They analyzed dust from the Amish and the Hutterite homes. The Amish dust was loaded with debris from bacteria the Hutterite dust was not. The researchers sent the dust to Dr. Donata Vercelli, an associate director of the asthma and airway research center at the University of Arizona, who would test the dust in mice. She put dust  \\u2014   Amish or Hutterite  \\u2014   into the airways of mice 14 times over a month and then exposed the animals to allergens. She measured how the airways responded: Did they constrict and twitch? Were they inflamed? \\u201cWe found exactly what we found in the children,\\u201d Dr. Vercelli said. \\u201cIf we give the Amish dust, we protect the mice. If we give the Hutterite dust, we do not protect them. \\u201d Dr. Ober and her colleagues heard the results in a conference call with Dr. Sperling. \\u201cOur jaws were hanging open,\\u201d Dr. Ober said. \\u201cWe could not believe it. \\u201d Dr. Vercelli repeated the test and added another control. She gave the Amish dust to mice that were missing genes needed for the innate immune response. This time, the dust did not protect them. \\u201cIt was incredibly exciting,\\u201d Dr. Sperling said. \\u201cNow we have a model that allows us to do these studies like never before. We can zoom in on microbial products. \\u201d The work is scientifically sound, said Dr. William Busse, a professor of allergy, pulmonary and critical care medicine at the University of Wisconsin. \\u201cIt is an extremely positive march forward,\\u201d he said. \\u201cThis is an exciting paper. \\u201d Now, said Dr. Talal Chatila, an immunologist at Harvard Medical School, \\u201cit is not   to start thinking of how one could harness those bacteria for a therapeutic intervention. \\u201d Dr. Chatila, who wrote an editorial accompanying the new paper, hastened to add that he was not suggesting that people start packaging Amish dust and selling it in pharmacies to protect children from asthma. But, he said, \\u201cI wouldn\\u2019t be surprised if inactive forms of the bacteria could be used. \\u201d\",\n          \"Visitors to several government websites may notice that there is an article popping up highlighting Mar-a-Lago   which is odd because Mar-a-Lago isn t government property, its a private resort owned and managed by Donald Trump himself. Burrowing into the article, a reader may notice that the piece isn t written in a dry, serious tone befitting a governmental agency, its one glorified advertisement for the place Trump and his family exclusively profit from which places a positive spin on Trump s Mar-a-Lago profiteering.Right from the start, the marketing angle is obvious. It, like Trump, insists on calling Mar-a-Lago the  Winter White House  a term made up by Trump to justify his numerous vacations to Florida. Nobody agreed to label Mar-a-Lago the  winter White House  and given its lack of security and the way it profits from Trump s access, calling it a White House is in all likelihood illegal. Nevertheless, Trump and writer Leigh Hartman insist.Mar-a-Lago, President Trump s Florida estate, has become well known as the president frequently travels there to work or host foreign leaders.The first meeting between Trump and President Xi Jinping of China will take place April 6 7 at Mar-a-Lago, which is located at the heart of Florida s Palm Beach community.From his base at Mar-a-Lago, Trump has golfed over a dozen times at a golf course he owns in Florida. He does not, by any account, do much  work  while he is there. In at least one example, Trump s morning filled with  meetings  turned out to be Trump s attempt to bingewatch golf in an empty dining room with two friends.Someone just posted this on Instagram from Trump's golf club. POTUS appears to be watching Golf Channel with 2 other people. pic.twitter.com/5LpVRHR1Do  Steve Kopack (@SteveKopack) March 26, 2017The article only gets more absurd from there.After refurbishing the house and adding an events space, Trump opened the estate to dues-paying members of the public in 1995 as the Mar-a-Lago Club.Post s dream of a winter White House came true with Trump s election in 2016. Trump regularly works out of the house he maintains at Mar-a-Lago and uses the club to host foreign dignitaries. Dues-paying members of the public  is code for  rich people.  Those members now have untold access to Donald Trump and many have been seen dining near Trump while the president discusses sensitive, sometimes classified information. They giddily share their brushes with Trump on social media, including once photographing the military staffer in charge of carrying the  nuclear football.  On Trump s end, he does much to entertain the people who pay him. Before the annual White House egg roll, Trump threw a private Easter party for rich families at Mar-a-Lago the night before.VIPs come first pic.twitter.com/75hLNSIFk2  southpaw (@nycsouthpaw) April 16, 2017And in case readers didn t understand why they should pay to go there, here is a fluffy description of the features:When socialite and cereal heiress Marjorie Merriweather Post built Mar-a-Lago   Spanish for  Sea to Lake    in 1927, she spared no expense. The 114-room mansion sits on 8 hectares of land, with the Atlantic Ocean on one side and an inland waterway on the other.The ornate Jazz Age house was designed with Old-World Spanish, Venetian and Portuguese influences and decorated with Post s personal collection of antiques.It s baffling to think why this advertisement for Mar-a-Lago would be allowed on any government website, but it has shown up on at least two. It seems to have originated on  Share America,  a website run by the State Department with pro-America articles written in the vein of  Upworthy.  From there it was posted inexplicably on the website for the U.S. Embassy in the United Kingdom. No other articles of this nature show up on that website. The Mar-a-Lago promo seems to be unique.It s hard to imagine this isn t blatantly illegal. Trump s private business is once again getting a major boost thanks to the government Trump now believes he controls. It s like cranking his conflict of interest violations up to 11.Featured image via screengrab\"\n        ],\n        \"semantic_type\": \"\",\n        \"description\": \"\"\n      }\n    },\n    {\n      \"column\": \"label\",\n      \"properties\": {\n        \"dtype\": \"number\",\n        \"std\": 0,\n        \"min\": 0,\n        \"max\": 1,\n        \"num_unique_values\": 2,\n        \"samples\": [\n          0,\n          1\n        ],\n        \"semantic_type\": \"\",\n        \"description\": \"\"\n      }\n    },\n    {\n      \"column\": \"content\",\n      \"properties\": {\n        \"dtype\": \"string\",\n        \"num_unique_values\": 9836,\n        \"samples\": [\n          \"Scott Greene Caught in Police Ambush Shooting At 1:00 a.m. on Wednesday, Nov. 2, 2016, Scott Michael Greene, a 46-year-old father of three, would change Urbandale, Iowa, forever. Officer Justin Martin and Sargent Tony Beminio were found shot and killed 20 minutes apart, Wednesday morning. Per authorities, Greene ambushed both Martin and Beminio while in their police cruisers, at two separate locations. Ambush-style shootings on police officers have been a common story on local and national news outlets.\\nOn July 17, Gaven Long took the lives of three Baton Rouge police officers. His motives were uncertain but his anger toward white police officials was clear. Recordings of Long ranting and raving about racial injustice surfaced on social media websites days prior to the shootings. Also, Long wore a self-made body camera and visited Dallas, where five officers were killed less than two weeks before his own rampage. There is no physical connection between Long and the Dallas shooter, their mental states were similar.\\nMicah Xavier Johnson, who fatally shot five Dallas officers, believed racial injustice was out of control. Despite his feelings toward police and the black community, Johnson\\u2019s stepmother was white and he was not known to \\u201cpick particular sides with race.\\u201d Johnson was killed by police officers who used a bomb-wearing robot, following the shootings. This left his motivation for the shootings a mystery. Not all police ambushes are incited by racial discrimination.\\nOn Sept. 12, 2014, Eric Frein opened fire on the Blooming Grove state police barracks, in Pennsylvania. One officer died and another was severely wounded. U.S. Marshals would later find Frein, 50 days later, in an airport hangar. He was discovered 23 miles from the barracks. Frein had expressed anger toward law enforcement but the reason for his anger has not been understood. What drives people such as Frein, Johnson, Long, and Green to go and act out such heinous crimes? Perhaps a mental illness can be blamed for such disturbing behavior.\\nThe mourning continues for the two officers who lost their lives early Wednesday morning. When a tragedy strikes a community, historically, the people come together. This is what is happening in Urbandale, Iowa.\\nBy Amy Weins\\nEdited by Jeanette Smith\\nSources:\\nDes Moines Register: Suspected police killer had history of run-ins with authorities\\nThe Advocate: Before Bloodshed: Where Gavin Long stayed, what he preached, odd encounters all on video\\nDallas News: Ousted from army, Dallas shooter used military skills for murder\\nPocono Record: Suspected State Police killer Frein Caught near abandoned airpark\\nImage Courtesy of Brandon Anderson\\u2019s Eric Frein , Gavin Long , Micah Johnson , Scott Greene , shooting\",\n          \" blowed up reeeeal good!\\nhttps://www.youtube.com/watch?v=HE3Q5xPtS3A&t=60s\"\n        ],\n        \"semantic_type\": \"\",\n        \"description\": \"\"\n      }\n    }\n  ]\n}"
            }
          },
          "metadata": {},
          "execution_count": 13
        }
      ]
    },
    {
      "cell_type": "code",
      "source": [
        "#separating the data and label:\n",
        "\n",
        "#getting it ready for training set\n",
        "\n",
        "X = news_dataset.drop('label', axis=1)\n",
        "Y = news_dataset['label']"
      ],
      "metadata": {
        "id": "Yj3PNaqGvYye"
      },
      "execution_count": 14,
      "outputs": []
    },
    {
      "cell_type": "code",
      "source": [
        "# print(X)\n",
        "# print(Y)"
      ],
      "metadata": {
        "id": "eI8SMFSAxPSG"
      },
      "execution_count": 15,
      "outputs": []
    },
    {
      "cell_type": "markdown",
      "source": [
        "Stemming:\n",
        "\n",
        "The process of reducing word to its ROOT WORD\n",
        "\n",
        "example:\n",
        "\n",
        "acter, actress, acting -> act"
      ],
      "metadata": {
        "id": "3P9e5wnBxn5G"
      }
    },
    {
      "cell_type": "code",
      "source": [
        " port_stem = PorterStemmer()"
      ],
      "metadata": {
        "id": "1mV3MBnSxRWW"
      },
      "execution_count": 16,
      "outputs": []
    },
    {
      "cell_type": "code",
      "source": [
        "#creating a f(x) becoz we need to replicate a code snippet.\n",
        "def stemming(content):\n",
        "  stemmed_content = re.sub('[^a-zA-z]',' ',content) #1\n",
        "  stemmed_content = stemmed_content.lower() #2\n",
        "  stemmed_content = stemmed_content.split() #3\n",
        "  stemmed_content = [port_stem.stem(word) for word in stemmed_content if not word in stopwords.words('english')] #4\n",
        "  stemmed_content = ' '.join(stemmed_content) #5\n",
        "  return stemmed_content\n",
        "\n",
        "# What we did:\n",
        "# - made f(x) as stemming and input as content\n",
        "#1 :To replace any character that is not a letter (a-z, A-Z) with a space. This essentially cleans the text by removing punctuation and numbers, leaving only words.\n",
        "#2 :This line converts all the text in stemmed_content to lowercase. This is done to ensure that words are treated the same regardless of their capitalization.\n",
        "#3 :This line uses the split() method to break the text in stemmed_content into individual words. These words are stored as a list in stemmed_content.\n",
        "\n",
        "#4 :-if not word in stopwords.words('english'): This condition checks if the word is not a common English \"stop word\" (like \"the,\" \"a,\" \"is\") . Stop words are often removed in NLP as they don't usually contribute much to the meaning of the text.\n",
        "#   -port_stem.stem(word): If the word is not a stop word, it is stemmed using the port_stem object (which is likely an instance of a Porter Stemmer from the NLTK library). Stemming reduces the word to its root form.\n",
        "\n",
        "#5 :Finally, this line joins the stemmed words back into a single string with spaces in between, effectively reconstructing the stemmed text."
      ],
      "metadata": {
        "id": "cYXoP9EWyghR"
      },
      "execution_count": 17,
      "outputs": []
    },
    {
      "cell_type": "code",
      "source": [
        "#Now need to apply upper function to our content column\n",
        "\n",
        "news_dataset['content'] = news_dataset['content'].apply(stemming)\n",
        "'''\n",
        "Take each text entry in the content column.\n",
        "Pass it to the stemming function.\n",
        "Store the result (the stemmed version of the text) back into the content column, updating the text in the dataset.\n",
        "'''\n"
      ],
      "metadata": {
        "colab": {
          "base_uri": "https://localhost:8080/",
          "height": 53
        },
        "id": "KwMNFd_m33Lg",
        "outputId": "8e53d4ff-14fb-4db0-f650-de55804d4d5f"
      },
      "execution_count": 18,
      "outputs": [
        {
          "output_type": "execute_result",
          "data": {
            "text/plain": [
              "'\\nTake each text entry in the content column.\\nPass it to the stemming function.\\nStore the result (the stemmed version of the text) back into the content column, updating the text in the dataset.\\n'"
            ],
            "application/vnd.google.colaboratory.intrinsic+json": {
              "type": "string"
            }
          },
          "metadata": {},
          "execution_count": 18
        }
      ]
    },
    {
      "cell_type": "code",
      "source": [
        " print(news_dataset['content'])"
      ],
      "metadata": {
        "id": "9oDPvnaj4J7D",
        "colab": {
          "base_uri": "https://localhost:8080/"
        },
        "outputId": "6a727d64-0645-466d-e1cb-343e1f44cf18"
      },
      "execution_count": 19,
      "outputs": [
        {
          "output_type": "stream",
          "name": "stdout",
          "text": [
            "0       law enforc high alert follow threat cop white ...\n",
            "1                               post vote hillari alreadi\n",
            "2       unbeliev obama attorney gener say charlott rio...\n",
            "3       bobbi jindal rais hindu use stori christian co...\n",
            "4       satan russia unv imag terrifi new supernuk wes...\n",
            "                              ...                        \n",
            "9995    yemen saleh readi turn new page saudi led atta...\n",
            "9996    anonym hacker fight justina pelleti plead guil...\n",
            "9997    hot air balloon crash texa kill offici say new...\n",
            "9998    palm goe ken loach film cann new york time can...\n",
            "9999    mike penc debat throw donald trump bu republic...\n",
            "Name: content, Length: 10000, dtype: object\n"
          ]
        }
      ]
    },
    {
      "cell_type": "markdown",
      "source": [
        "##The Main dataset which we need:"
      ],
      "metadata": {
        "id": "LPOq0agJWiFO"
      }
    },
    {
      "cell_type": "code",
      "source": [
        "X = news_dataset['content'].values\n",
        "Y = news_dataset['label']\n",
        "# Y.value_counts()"
      ],
      "metadata": {
        "id": "pQ8CpQ5PZhSw"
      },
      "execution_count": 20,
      "outputs": []
    },
    {
      "cell_type": "code",
      "source": [
        "# print(X)\n",
        "# print(Y)"
      ],
      "metadata": {
        "id": "v7ES612uWo35"
      },
      "execution_count": 21,
      "outputs": []
    },
    {
      "cell_type": "code",
      "source": [
        "#Converting the textual data to numerical data\n",
        "\n",
        "vectorizer = TfidfVectorizer() #Tf:term frequency,counts no. of times a word appears in a document/paragrah\n",
        "                             #id:inverse document,finds repeated words as those words don't have such importance and reduces its importance value\n",
        "                             #So by all this we create feature vector\n",
        "\n",
        "# Reset X to the original content\n",
        "X = news_dataset['content'].values # Convert Series to numpy array, did again becoz it was showing else then\n",
        "vectorizer.fit(X)\n",
        "X = vectorizer.transform(X)\n",
        "# print(X)"
      ],
      "metadata": {
        "id": "U906dsA7XLqY"
      },
      "execution_count": 22,
      "outputs": []
    },
    {
      "cell_type": "markdown",
      "source": [
        "If we feed this textual data to ML model, it cannot understand all these strings,\n",
        "\n",
        "!But if we feed this transform text to our ML model then it can understand and do predictions"
      ],
      "metadata": {
        "id": "v8hrWu1VaBES"
      }
    },
    {
      "cell_type": "code",
      "source": [
        "#Splitting dataset in train and test\n",
        "X_train,X_test,y_train,y_test = train_test_split(X,Y, stratify=Y, test_size=0.25, random_state=42)"
      ],
      "metadata": {
        "id": "yZ4mDYM6YAem"
      },
      "execution_count": 23,
      "outputs": []
    },
    {
      "cell_type": "code",
      "source": [
        "modelL = LogisticRegression()\n",
        "modelR = RandomForestRegressor(n_estimators=50, random_state=42)\n",
        "modelS = SVC()\n",
        "modelD = DecisionTreeRegressor()"
      ],
      "metadata": {
        "id": "pqlHCMbbakO3"
      },
      "execution_count": 26,
      "outputs": []
    },
    {
      "cell_type": "code",
      "source": [
        "modelL.fit(X_train, y_train)\n",
        "modelR.fit(X_train, y_train)\n",
        "modelS.fit(X_train, y_train)\n",
        "modelD.fit(X_train, y_train)\n"
      ],
      "metadata": {
        "id": "5zV_QMqjbZuX",
        "colab": {
          "base_uri": "https://localhost:8080/",
          "height": 80
        },
        "outputId": "4d0a8c21-16cb-4400-e599-bbe7e541e9a3"
      },
      "execution_count": 27,
      "outputs": [
        {
          "output_type": "execute_result",
          "data": {
            "text/plain": [
              "DecisionTreeRegressor()"
            ],
            "text/html": [
              "<style>#sk-container-id-1 {\n",
              "  /* Definition of color scheme common for light and dark mode */\n",
              "  --sklearn-color-text: #000;\n",
              "  --sklearn-color-text-muted: #666;\n",
              "  --sklearn-color-line: gray;\n",
              "  /* Definition of color scheme for unfitted estimators */\n",
              "  --sklearn-color-unfitted-level-0: #fff5e6;\n",
              "  --sklearn-color-unfitted-level-1: #f6e4d2;\n",
              "  --sklearn-color-unfitted-level-2: #ffe0b3;\n",
              "  --sklearn-color-unfitted-level-3: chocolate;\n",
              "  /* Definition of color scheme for fitted estimators */\n",
              "  --sklearn-color-fitted-level-0: #f0f8ff;\n",
              "  --sklearn-color-fitted-level-1: #d4ebff;\n",
              "  --sklearn-color-fitted-level-2: #b3dbfd;\n",
              "  --sklearn-color-fitted-level-3: cornflowerblue;\n",
              "\n",
              "  /* Specific color for light theme */\n",
              "  --sklearn-color-text-on-default-background: var(--sg-text-color, var(--theme-code-foreground, var(--jp-content-font-color1, black)));\n",
              "  --sklearn-color-background: var(--sg-background-color, var(--theme-background, var(--jp-layout-color0, white)));\n",
              "  --sklearn-color-border-box: var(--sg-text-color, var(--theme-code-foreground, var(--jp-content-font-color1, black)));\n",
              "  --sklearn-color-icon: #696969;\n",
              "\n",
              "  @media (prefers-color-scheme: dark) {\n",
              "    /* Redefinition of color scheme for dark theme */\n",
              "    --sklearn-color-text-on-default-background: var(--sg-text-color, var(--theme-code-foreground, var(--jp-content-font-color1, white)));\n",
              "    --sklearn-color-background: var(--sg-background-color, var(--theme-background, var(--jp-layout-color0, #111)));\n",
              "    --sklearn-color-border-box: var(--sg-text-color, var(--theme-code-foreground, var(--jp-content-font-color1, white)));\n",
              "    --sklearn-color-icon: #878787;\n",
              "  }\n",
              "}\n",
              "\n",
              "#sk-container-id-1 {\n",
              "  color: var(--sklearn-color-text);\n",
              "}\n",
              "\n",
              "#sk-container-id-1 pre {\n",
              "  padding: 0;\n",
              "}\n",
              "\n",
              "#sk-container-id-1 input.sk-hidden--visually {\n",
              "  border: 0;\n",
              "  clip: rect(1px 1px 1px 1px);\n",
              "  clip: rect(1px, 1px, 1px, 1px);\n",
              "  height: 1px;\n",
              "  margin: -1px;\n",
              "  overflow: hidden;\n",
              "  padding: 0;\n",
              "  position: absolute;\n",
              "  width: 1px;\n",
              "}\n",
              "\n",
              "#sk-container-id-1 div.sk-dashed-wrapped {\n",
              "  border: 1px dashed var(--sklearn-color-line);\n",
              "  margin: 0 0.4em 0.5em 0.4em;\n",
              "  box-sizing: border-box;\n",
              "  padding-bottom: 0.4em;\n",
              "  background-color: var(--sklearn-color-background);\n",
              "}\n",
              "\n",
              "#sk-container-id-1 div.sk-container {\n",
              "  /* jupyter's `normalize.less` sets `[hidden] { display: none; }`\n",
              "     but bootstrap.min.css set `[hidden] { display: none !important; }`\n",
              "     so we also need the `!important` here to be able to override the\n",
              "     default hidden behavior on the sphinx rendered scikit-learn.org.\n",
              "     See: https://github.com/scikit-learn/scikit-learn/issues/21755 */\n",
              "  display: inline-block !important;\n",
              "  position: relative;\n",
              "}\n",
              "\n",
              "#sk-container-id-1 div.sk-text-repr-fallback {\n",
              "  display: none;\n",
              "}\n",
              "\n",
              "div.sk-parallel-item,\n",
              "div.sk-serial,\n",
              "div.sk-item {\n",
              "  /* draw centered vertical line to link estimators */\n",
              "  background-image: linear-gradient(var(--sklearn-color-text-on-default-background), var(--sklearn-color-text-on-default-background));\n",
              "  background-size: 2px 100%;\n",
              "  background-repeat: no-repeat;\n",
              "  background-position: center center;\n",
              "}\n",
              "\n",
              "/* Parallel-specific style estimator block */\n",
              "\n",
              "#sk-container-id-1 div.sk-parallel-item::after {\n",
              "  content: \"\";\n",
              "  width: 100%;\n",
              "  border-bottom: 2px solid var(--sklearn-color-text-on-default-background);\n",
              "  flex-grow: 1;\n",
              "}\n",
              "\n",
              "#sk-container-id-1 div.sk-parallel {\n",
              "  display: flex;\n",
              "  align-items: stretch;\n",
              "  justify-content: center;\n",
              "  background-color: var(--sklearn-color-background);\n",
              "  position: relative;\n",
              "}\n",
              "\n",
              "#sk-container-id-1 div.sk-parallel-item {\n",
              "  display: flex;\n",
              "  flex-direction: column;\n",
              "}\n",
              "\n",
              "#sk-container-id-1 div.sk-parallel-item:first-child::after {\n",
              "  align-self: flex-end;\n",
              "  width: 50%;\n",
              "}\n",
              "\n",
              "#sk-container-id-1 div.sk-parallel-item:last-child::after {\n",
              "  align-self: flex-start;\n",
              "  width: 50%;\n",
              "}\n",
              "\n",
              "#sk-container-id-1 div.sk-parallel-item:only-child::after {\n",
              "  width: 0;\n",
              "}\n",
              "\n",
              "/* Serial-specific style estimator block */\n",
              "\n",
              "#sk-container-id-1 div.sk-serial {\n",
              "  display: flex;\n",
              "  flex-direction: column;\n",
              "  align-items: center;\n",
              "  background-color: var(--sklearn-color-background);\n",
              "  padding-right: 1em;\n",
              "  padding-left: 1em;\n",
              "}\n",
              "\n",
              "\n",
              "/* Toggleable style: style used for estimator/Pipeline/ColumnTransformer box that is\n",
              "clickable and can be expanded/collapsed.\n",
              "- Pipeline and ColumnTransformer use this feature and define the default style\n",
              "- Estimators will overwrite some part of the style using the `sk-estimator` class\n",
              "*/\n",
              "\n",
              "/* Pipeline and ColumnTransformer style (default) */\n",
              "\n",
              "#sk-container-id-1 div.sk-toggleable {\n",
              "  /* Default theme specific background. It is overwritten whether we have a\n",
              "  specific estimator or a Pipeline/ColumnTransformer */\n",
              "  background-color: var(--sklearn-color-background);\n",
              "}\n",
              "\n",
              "/* Toggleable label */\n",
              "#sk-container-id-1 label.sk-toggleable__label {\n",
              "  cursor: pointer;\n",
              "  display: flex;\n",
              "  width: 100%;\n",
              "  margin-bottom: 0;\n",
              "  padding: 0.5em;\n",
              "  box-sizing: border-box;\n",
              "  text-align: center;\n",
              "  align-items: start;\n",
              "  justify-content: space-between;\n",
              "  gap: 0.5em;\n",
              "}\n",
              "\n",
              "#sk-container-id-1 label.sk-toggleable__label .caption {\n",
              "  font-size: 0.6rem;\n",
              "  font-weight: lighter;\n",
              "  color: var(--sklearn-color-text-muted);\n",
              "}\n",
              "\n",
              "#sk-container-id-1 label.sk-toggleable__label-arrow:before {\n",
              "  /* Arrow on the left of the label */\n",
              "  content: \"▸\";\n",
              "  float: left;\n",
              "  margin-right: 0.25em;\n",
              "  color: var(--sklearn-color-icon);\n",
              "}\n",
              "\n",
              "#sk-container-id-1 label.sk-toggleable__label-arrow:hover:before {\n",
              "  color: var(--sklearn-color-text);\n",
              "}\n",
              "\n",
              "/* Toggleable content - dropdown */\n",
              "\n",
              "#sk-container-id-1 div.sk-toggleable__content {\n",
              "  max-height: 0;\n",
              "  max-width: 0;\n",
              "  overflow: hidden;\n",
              "  text-align: left;\n",
              "  /* unfitted */\n",
              "  background-color: var(--sklearn-color-unfitted-level-0);\n",
              "}\n",
              "\n",
              "#sk-container-id-1 div.sk-toggleable__content.fitted {\n",
              "  /* fitted */\n",
              "  background-color: var(--sklearn-color-fitted-level-0);\n",
              "}\n",
              "\n",
              "#sk-container-id-1 div.sk-toggleable__content pre {\n",
              "  margin: 0.2em;\n",
              "  border-radius: 0.25em;\n",
              "  color: var(--sklearn-color-text);\n",
              "  /* unfitted */\n",
              "  background-color: var(--sklearn-color-unfitted-level-0);\n",
              "}\n",
              "\n",
              "#sk-container-id-1 div.sk-toggleable__content.fitted pre {\n",
              "  /* unfitted */\n",
              "  background-color: var(--sklearn-color-fitted-level-0);\n",
              "}\n",
              "\n",
              "#sk-container-id-1 input.sk-toggleable__control:checked~div.sk-toggleable__content {\n",
              "  /* Expand drop-down */\n",
              "  max-height: 200px;\n",
              "  max-width: 100%;\n",
              "  overflow: auto;\n",
              "}\n",
              "\n",
              "#sk-container-id-1 input.sk-toggleable__control:checked~label.sk-toggleable__label-arrow:before {\n",
              "  content: \"▾\";\n",
              "}\n",
              "\n",
              "/* Pipeline/ColumnTransformer-specific style */\n",
              "\n",
              "#sk-container-id-1 div.sk-label input.sk-toggleable__control:checked~label.sk-toggleable__label {\n",
              "  color: var(--sklearn-color-text);\n",
              "  background-color: var(--sklearn-color-unfitted-level-2);\n",
              "}\n",
              "\n",
              "#sk-container-id-1 div.sk-label.fitted input.sk-toggleable__control:checked~label.sk-toggleable__label {\n",
              "  background-color: var(--sklearn-color-fitted-level-2);\n",
              "}\n",
              "\n",
              "/* Estimator-specific style */\n",
              "\n",
              "/* Colorize estimator box */\n",
              "#sk-container-id-1 div.sk-estimator input.sk-toggleable__control:checked~label.sk-toggleable__label {\n",
              "  /* unfitted */\n",
              "  background-color: var(--sklearn-color-unfitted-level-2);\n",
              "}\n",
              "\n",
              "#sk-container-id-1 div.sk-estimator.fitted input.sk-toggleable__control:checked~label.sk-toggleable__label {\n",
              "  /* fitted */\n",
              "  background-color: var(--sklearn-color-fitted-level-2);\n",
              "}\n",
              "\n",
              "#sk-container-id-1 div.sk-label label.sk-toggleable__label,\n",
              "#sk-container-id-1 div.sk-label label {\n",
              "  /* The background is the default theme color */\n",
              "  color: var(--sklearn-color-text-on-default-background);\n",
              "}\n",
              "\n",
              "/* On hover, darken the color of the background */\n",
              "#sk-container-id-1 div.sk-label:hover label.sk-toggleable__label {\n",
              "  color: var(--sklearn-color-text);\n",
              "  background-color: var(--sklearn-color-unfitted-level-2);\n",
              "}\n",
              "\n",
              "/* Label box, darken color on hover, fitted */\n",
              "#sk-container-id-1 div.sk-label.fitted:hover label.sk-toggleable__label.fitted {\n",
              "  color: var(--sklearn-color-text);\n",
              "  background-color: var(--sklearn-color-fitted-level-2);\n",
              "}\n",
              "\n",
              "/* Estimator label */\n",
              "\n",
              "#sk-container-id-1 div.sk-label label {\n",
              "  font-family: monospace;\n",
              "  font-weight: bold;\n",
              "  display: inline-block;\n",
              "  line-height: 1.2em;\n",
              "}\n",
              "\n",
              "#sk-container-id-1 div.sk-label-container {\n",
              "  text-align: center;\n",
              "}\n",
              "\n",
              "/* Estimator-specific */\n",
              "#sk-container-id-1 div.sk-estimator {\n",
              "  font-family: monospace;\n",
              "  border: 1px dotted var(--sklearn-color-border-box);\n",
              "  border-radius: 0.25em;\n",
              "  box-sizing: border-box;\n",
              "  margin-bottom: 0.5em;\n",
              "  /* unfitted */\n",
              "  background-color: var(--sklearn-color-unfitted-level-0);\n",
              "}\n",
              "\n",
              "#sk-container-id-1 div.sk-estimator.fitted {\n",
              "  /* fitted */\n",
              "  background-color: var(--sklearn-color-fitted-level-0);\n",
              "}\n",
              "\n",
              "/* on hover */\n",
              "#sk-container-id-1 div.sk-estimator:hover {\n",
              "  /* unfitted */\n",
              "  background-color: var(--sklearn-color-unfitted-level-2);\n",
              "}\n",
              "\n",
              "#sk-container-id-1 div.sk-estimator.fitted:hover {\n",
              "  /* fitted */\n",
              "  background-color: var(--sklearn-color-fitted-level-2);\n",
              "}\n",
              "\n",
              "/* Specification for estimator info (e.g. \"i\" and \"?\") */\n",
              "\n",
              "/* Common style for \"i\" and \"?\" */\n",
              "\n",
              ".sk-estimator-doc-link,\n",
              "a:link.sk-estimator-doc-link,\n",
              "a:visited.sk-estimator-doc-link {\n",
              "  float: right;\n",
              "  font-size: smaller;\n",
              "  line-height: 1em;\n",
              "  font-family: monospace;\n",
              "  background-color: var(--sklearn-color-background);\n",
              "  border-radius: 1em;\n",
              "  height: 1em;\n",
              "  width: 1em;\n",
              "  text-decoration: none !important;\n",
              "  margin-left: 0.5em;\n",
              "  text-align: center;\n",
              "  /* unfitted */\n",
              "  border: var(--sklearn-color-unfitted-level-1) 1pt solid;\n",
              "  color: var(--sklearn-color-unfitted-level-1);\n",
              "}\n",
              "\n",
              ".sk-estimator-doc-link.fitted,\n",
              "a:link.sk-estimator-doc-link.fitted,\n",
              "a:visited.sk-estimator-doc-link.fitted {\n",
              "  /* fitted */\n",
              "  border: var(--sklearn-color-fitted-level-1) 1pt solid;\n",
              "  color: var(--sklearn-color-fitted-level-1);\n",
              "}\n",
              "\n",
              "/* On hover */\n",
              "div.sk-estimator:hover .sk-estimator-doc-link:hover,\n",
              ".sk-estimator-doc-link:hover,\n",
              "div.sk-label-container:hover .sk-estimator-doc-link:hover,\n",
              ".sk-estimator-doc-link:hover {\n",
              "  /* unfitted */\n",
              "  background-color: var(--sklearn-color-unfitted-level-3);\n",
              "  color: var(--sklearn-color-background);\n",
              "  text-decoration: none;\n",
              "}\n",
              "\n",
              "div.sk-estimator.fitted:hover .sk-estimator-doc-link.fitted:hover,\n",
              ".sk-estimator-doc-link.fitted:hover,\n",
              "div.sk-label-container:hover .sk-estimator-doc-link.fitted:hover,\n",
              ".sk-estimator-doc-link.fitted:hover {\n",
              "  /* fitted */\n",
              "  background-color: var(--sklearn-color-fitted-level-3);\n",
              "  color: var(--sklearn-color-background);\n",
              "  text-decoration: none;\n",
              "}\n",
              "\n",
              "/* Span, style for the box shown on hovering the info icon */\n",
              ".sk-estimator-doc-link span {\n",
              "  display: none;\n",
              "  z-index: 9999;\n",
              "  position: relative;\n",
              "  font-weight: normal;\n",
              "  right: .2ex;\n",
              "  padding: .5ex;\n",
              "  margin: .5ex;\n",
              "  width: min-content;\n",
              "  min-width: 20ex;\n",
              "  max-width: 50ex;\n",
              "  color: var(--sklearn-color-text);\n",
              "  box-shadow: 2pt 2pt 4pt #999;\n",
              "  /* unfitted */\n",
              "  background: var(--sklearn-color-unfitted-level-0);\n",
              "  border: .5pt solid var(--sklearn-color-unfitted-level-3);\n",
              "}\n",
              "\n",
              ".sk-estimator-doc-link.fitted span {\n",
              "  /* fitted */\n",
              "  background: var(--sklearn-color-fitted-level-0);\n",
              "  border: var(--sklearn-color-fitted-level-3);\n",
              "}\n",
              "\n",
              ".sk-estimator-doc-link:hover span {\n",
              "  display: block;\n",
              "}\n",
              "\n",
              "/* \"?\"-specific style due to the `<a>` HTML tag */\n",
              "\n",
              "#sk-container-id-1 a.estimator_doc_link {\n",
              "  float: right;\n",
              "  font-size: 1rem;\n",
              "  line-height: 1em;\n",
              "  font-family: monospace;\n",
              "  background-color: var(--sklearn-color-background);\n",
              "  border-radius: 1rem;\n",
              "  height: 1rem;\n",
              "  width: 1rem;\n",
              "  text-decoration: none;\n",
              "  /* unfitted */\n",
              "  color: var(--sklearn-color-unfitted-level-1);\n",
              "  border: var(--sklearn-color-unfitted-level-1) 1pt solid;\n",
              "}\n",
              "\n",
              "#sk-container-id-1 a.estimator_doc_link.fitted {\n",
              "  /* fitted */\n",
              "  border: var(--sklearn-color-fitted-level-1) 1pt solid;\n",
              "  color: var(--sklearn-color-fitted-level-1);\n",
              "}\n",
              "\n",
              "/* On hover */\n",
              "#sk-container-id-1 a.estimator_doc_link:hover {\n",
              "  /* unfitted */\n",
              "  background-color: var(--sklearn-color-unfitted-level-3);\n",
              "  color: var(--sklearn-color-background);\n",
              "  text-decoration: none;\n",
              "}\n",
              "\n",
              "#sk-container-id-1 a.estimator_doc_link.fitted:hover {\n",
              "  /* fitted */\n",
              "  background-color: var(--sklearn-color-fitted-level-3);\n",
              "}\n",
              "</style><div id=\"sk-container-id-1\" class=\"sk-top-container\"><div class=\"sk-text-repr-fallback\"><pre>DecisionTreeRegressor()</pre><b>In a Jupyter environment, please rerun this cell to show the HTML representation or trust the notebook. <br />On GitHub, the HTML representation is unable to render, please try loading this page with nbviewer.org.</b></div><div class=\"sk-container\" hidden><div class=\"sk-item\"><div class=\"sk-estimator fitted sk-toggleable\"><input class=\"sk-toggleable__control sk-hidden--visually\" id=\"sk-estimator-id-1\" type=\"checkbox\" checked><label for=\"sk-estimator-id-1\" class=\"sk-toggleable__label fitted sk-toggleable__label-arrow\"><div><div>DecisionTreeRegressor</div></div><div><a class=\"sk-estimator-doc-link fitted\" rel=\"noreferrer\" target=\"_blank\" href=\"https://scikit-learn.org/1.6/modules/generated/sklearn.tree.DecisionTreeRegressor.html\">?<span>Documentation for DecisionTreeRegressor</span></a><span class=\"sk-estimator-doc-link fitted\">i<span>Fitted</span></span></div></label><div class=\"sk-toggleable__content fitted\"><pre>DecisionTreeRegressor()</pre></div> </div></div></div></div>"
            ]
          },
          "metadata": {},
          "execution_count": 27
        }
      ]
    },
    {
      "cell_type": "markdown",
      "source": [
        "Evaluation on logistic Regression"
      ],
      "metadata": {
        "id": "RUlRi442bndb"
      }
    },
    {
      "cell_type": "code",
      "source": [
        "X_train_predictionL =  modelL.predict(X_train)\n",
        "acc_trainL = accuracy_score(X_train_predictionL, y_train)\n",
        "X_test_predictionL =  modelL.predict(X_test)\n",
        "acc_testL = accuracy_score(X_test_predictionL, y_test)\n",
        "\n",
        "print(\"Accuracy score on training data:\",acc_trainL)\n",
        "print(\"Accuracy score on testing data:\",acc_testL)"
      ],
      "metadata": {
        "colab": {
          "base_uri": "https://localhost:8080/"
        },
        "id": "cl6kA_d0bdDC",
        "outputId": "cc67f624-78dc-42f6-ab55-e11144c4959b"
      },
      "execution_count": 28,
      "outputs": [
        {
          "output_type": "stream",
          "name": "stdout",
          "text": [
            "Accuracy score on training data: 0.9512\n",
            "Accuracy score on testing data: 0.918\n"
          ]
        }
      ]
    },
    {
      "cell_type": "markdown",
      "source": [
        "Evaluation on Decision Trees"
      ],
      "metadata": {
        "id": "k6YsUzcte0W_"
      }
    },
    {
      "cell_type": "code",
      "source": [
        "X_train_predictionD =  modelD.predict(X_train)\n",
        "acc_trainD = accuracy_score(X_train_predictionD, y_train)\n",
        "X_test_predictionD =  modelD.predict(X_test)\n",
        "acc_testD = accuracy_score(X_test_predictionD, y_test)\n",
        "\n",
        "print(\"Accuracy score on training data:\",acc_trainD)\n",
        "print(\"Accuracy score on testing data:\",acc_testD)"
      ],
      "metadata": {
        "colab": {
          "base_uri": "https://localhost:8080/"
        },
        "outputId": "7e6321af-6943-46b2-bae7-4897ae903317",
        "id": "ClD6tQn5hJ_v"
      },
      "execution_count": 29,
      "outputs": [
        {
          "output_type": "stream",
          "name": "stdout",
          "text": [
            "Accuracy score on training data: 1.0\n",
            "Accuracy score on testing data: 0.9016\n"
          ]
        }
      ]
    },
    {
      "cell_type": "markdown",
      "source": [
        "Evaluation on SVM"
      ],
      "metadata": {
        "id": "P5aHFoCme2jk"
      }
    },
    {
      "cell_type": "code",
      "source": [
        "X_train_predictionS =  modelS.predict(X_train)\n",
        "acc_trainS = accuracy_score(X_train_predictionS, y_train)\n",
        "X_test_predictionS =  modelS.predict(X_test)\n",
        "acc_testS = accuracy_score(X_test_predictionS, y_test)\n",
        "\n",
        "print(\"Accuracy score on training data:\",acc_trainS)\n",
        "print(\"Accuracy score on testing data:\",acc_testS)"
      ],
      "metadata": {
        "colab": {
          "base_uri": "https://localhost:8080/"
        },
        "outputId": "6ee1dcb7-0018-4dd7-d847-a0ff1072ea78",
        "id": "C7kmprwShLOC"
      },
      "execution_count": 30,
      "outputs": [
        {
          "output_type": "stream",
          "name": "stdout",
          "text": [
            "Accuracy score on training data: 0.9945333333333334\n",
            "Accuracy score on testing data: 0.9284\n"
          ]
        }
      ]
    },
    {
      "cell_type": "markdown",
      "source": [
        "Evaluation on Random Forest"
      ],
      "metadata": {
        "id": "UKM1CrIDiBRP"
      }
    },
    {
      "cell_type": "code",
      "source": [
        "X_train_predictionR = modelR.predict(X_train)\n",
        "\n",
        "# Round predictions to the nearest integer (0 or 1)\n",
        "X_train_predictionR = np.round(X_train_predictionR)\n",
        "acc_trainR = accuracy_score(X_train_predictionR, y_train)\n",
        "\n",
        "X_test_predictionR = modelR.predict(X_test)\n",
        "\n",
        "# Round predictions to the nearest integer (0 or 1)\n",
        "X_test_predictionR = np.round(X_test_predictionR)\n",
        "acc_testR = accuracy_score(X_test_predictionR, y_test)\n",
        "\n",
        "print(\"Accuracy score on training data:\",acc_trainR)\n",
        "print(\"Accuracy score on testing data:\",acc_testR)"
      ],
      "metadata": {
        "colab": {
          "base_uri": "https://localhost:8080/"
        },
        "id": "vtqY-Dvghqk0",
        "outputId": "5740f4b1-e807-4dfd-f3b4-598d9987e280"
      },
      "execution_count": 31,
      "outputs": [
        {
          "output_type": "stream",
          "name": "stdout",
          "text": [
            "Accuracy score on training data: 0.9998666666666667\n",
            "Accuracy score on testing data: 0.9324\n"
          ]
        }
      ]
    },
    {
      "cell_type": "markdown",
      "source": [
        "##Making a Predictive System:"
      ],
      "metadata": {
        "id": "HGwCEl7_icz6"
      }
    },
    {
      "cell_type": "code",
      "source": [
        "X_test.shape\n",
        "# (2500, 59353)\n",
        "# no. of rows, no. of columns becoz of tfid words got splitted into new colums so it increased a lot"
      ],
      "metadata": {
        "colab": {
          "base_uri": "https://localhost:8080/"
        },
        "id": "NF0ncBAUmvcU",
        "outputId": "9ef820e6-0af1-4624-cf34-9aea99624a0e"
      },
      "execution_count": 32,
      "outputs": [
        {
          "output_type": "execute_result",
          "data": {
            "text/plain": [
              "(2500, 59353)"
            ]
          },
          "metadata": {},
          "execution_count": 32
        }
      ]
    },
    {
      "cell_type": "code",
      "source": [
        "n=2022\n",
        "X_new = X_test[n] #means the first row/news\n",
        "\n",
        "prediction_final = modelD.predict(X_new)\n",
        "# prediction_final = int(np.round(prediction_final[0])) #becoz we're using Random Forest else comment out.\n",
        "\n",
        "if prediction_final[0] == 0:\n",
        "# if prediction_final == 1: #becoz we're using Random Forest else comment out., use above one for others\n",
        "  print('The news is Real')\n",
        "else:\n",
        "  print('The news is Fake')\n",
        "\n",
        "check = y_test.iloc[n]  #!!best practice to use iloc\n",
        "# print(check)\n",
        "\n",
        "if check==prediction_final[0]:\n",
        "  print(\"Correct Prediction\")\n",
        "else:\n",
        "  print(\"Wrong Prediction\")"
      ],
      "metadata": {
        "colab": {
          "base_uri": "https://localhost:8080/"
        },
        "collapsed": true,
        "id": "o-aOJsh5iIuP",
        "outputId": "98d6c5a2-6429-4505-f09c-30e62ad1ad2a"
      },
      "execution_count": 33,
      "outputs": [
        {
          "output_type": "stream",
          "name": "stdout",
          "text": [
            "The news is Real\n",
            "Correct Prediction\n"
          ]
        }
      ]
    },
    {
      "cell_type": "markdown",
      "source": [
        "##Model Performance Comparision"
      ],
      "metadata": {
        "id": "hmFcLTfDoWfY"
      }
    },
    {
      "cell_type": "code",
      "source": [
        "import matplotlib.pyplot as plt\n"
      ],
      "metadata": {
        "id": "EWgk24n4omqx"
      },
      "execution_count": 34,
      "outputs": []
    },
    {
      "cell_type": "code",
      "source": [
        "plt.figure(figsize=(10,5))\n",
        "\n",
        "models = ['Logistics', 'Random Forest', 'SVC', 'Decision Tree']\n",
        "train_accuracies = [acc_trainL, acc_trainR, acc_trainS, acc_trainD]\n",
        "test_accuracies = [acc_testL, acc_testR, acc_testS, acc_testD]\n",
        "\n",
        "x = np.arange(len(models))\n",
        "width = 0.35\n",
        "\n",
        "plt.bar(x-width/2, train_accuracies, width, label='Training Accuracy', color='skyblue')\n",
        "plt.bar(x+width/2, test_accuracies, width, label='Testing Accuracy', color='lightcoral')\n",
        "\n",
        "plt.xlabel('Models')\n",
        "plt.ylabel('Accuracy', rotation=90)\n",
        "plt.title('Model Performance Comparision')\n",
        "plt.xticks(x,models,rotation=90)\n",
        "plt.legend()\n",
        "plt.grid(True,alpha=0.5)\n",
        "plt.tight_layout()\n",
        "plt.show()"
      ],
      "metadata": {
        "colab": {
          "base_uri": "https://localhost:8080/",
          "height": 498
        },
        "id": "DSVCw41djEt4",
        "outputId": "d55feb52-24a2-4774-be42-3d39a7efc011"
      },
      "execution_count": 35,
      "outputs": [
        {
          "output_type": "display_data",
          "data": {
            "text/plain": [
              "<Figure size 1000x500 with 1 Axes>"
            ],
            "image/png": "[encoded data removed]"
          },
          "metadata": {}
        }
      ]
    },
    {
      "cell_type": "code",
      "source": [],
      "metadata": {
        "id": "E9Nx8XsuoqLV"
      },
      "execution_count": null,
      "outputs": []
    }
  ]
}